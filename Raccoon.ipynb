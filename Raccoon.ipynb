{
 "cells": [
  {
   "cell_type": "markdown",
   "metadata": {},
   "source": [
    "### This class cleans a dataframe\n",
    "Gets as input the dataframe and the columns where to perform the cleaning task and removes punctuation, stop-words/hapax legomena, casts to lower-case and performs lemmatization"
   ]
  },
  {
   "cell_type": "code",
   "execution_count": 1,
   "metadata": {},
   "outputs": [],
   "source": [
    "import string\n",
    "import pandas as pd\n",
    "import nltk\n",
    "\n",
    "from nltk.corpus import stopwords\n",
    "from tqdm.notebook import tqdm_notebook as tqdm"
   ]
  },
  {
   "cell_type": "code",
   "execution_count": 3,
   "metadata": {},
   "outputs": [],
   "source": [
    "def remove_punct(s):\n",
    "    return s.translate(str.maketrans('', '', string.punctuation))"
   ]
  },
  {
   "cell_type": "code",
   "execution_count": 4,
   "metadata": {},
   "outputs": [],
   "source": [
    "def remove_stopwords(s):\n",
    "    return \" \".join([word for word in tqdm(s.split()) if word not in stopwords.words(\"english\") or not word.isnumeric()])"
   ]
  },
  {
   "cell_type": "code",
   "execution_count": 5,
   "metadata": {},
   "outputs": [],
   "source": [
    "class Raccoon:\n",
    "    def __init__(self, df, columns):\n",
    "        self.df = df\n",
    "        self.columns = columns\n",
    "    def clean_punctuation(self):\n",
    "        for column in tqdm(self.columns):\n",
    "            self.df[column] = self.df[column].apply(remove_punct)\n",
    "        #return self.df\n",
    "    def lower_all(self):\n",
    "        for column in tqdm(self.columns):\n",
    "            self.df[column] = self.df[column].apply(str.lower)\n",
    "    def clean_stopwords(self):\n",
    "        tqdm.pandas()\n",
    "        for column in tqdm(self.columns):\n",
    "            self.df[column] = self.df[column].progress_apply(remove_stopwords)"
   ]
  },
  {
   "cell_type": "code",
   "execution_count": null,
   "metadata": {},
   "outputs": [],
   "source": []
  }
 ],
 "metadata": {
  "kernelspec": {
   "display_name": "Python 3",
   "language": "python",
   "name": "python3"
  },
  "language_info": {
   "codemirror_mode": {
    "name": "ipython",
    "version": 3
   },
   "file_extension": ".py",
   "mimetype": "text/x-python",
   "name": "python",
   "nbconvert_exporter": "python",
   "pygments_lexer": "ipython3",
   "version": "3.7.5"
  }
 },
 "nbformat": 4,
 "nbformat_minor": 4
}

{
 "cells": [
  {
   "cell_type": "code",
   "execution_count": 1,
   "metadata": {
    "id": "idMPWePBWZUB"
   },
   "outputs": [],
   "source": [
    "from io import StringIO\n",
    "from tqdm.notebook import tqdm_notebook as tqdm\n",
    "\n",
    "import random\n",
    "import re\n",
    "import nltk\n",
    "import numpy as np\n",
    "import pandas as pd\n",
    "import requests\n",
    "import torch\n",
    "import torch.nn as nn\n",
    "import torch.nn.functional as F\n",
    "import torch.optim as optim"
   ]
  },
  {
   "cell_type": "markdown",
   "metadata": {},
   "source": [
    "# Constructing classes\n",
    "In this section, we build classes which are later used to load and clean data. We moved this to the top of the notebook to declutter the following section and to make it easier for you to follow our workflow."
   ]
  },
  {
   "cell_type": "markdown",
   "metadata": {},
   "source": [
    "## Data-downloading class\n",
    "It has three metods: <br>\n",
    "<ul>\n",
    "    <li><b>__init__(url):</b> Class constructor, takes an URL to GDrive;</li>\n",
    "    <li><b>load_csv():</b> Downloads a .csv from the GDrive link and returns it as pandas dataframe;</li>\n",
    "    <li><b>load_txt():</b> Downloads a .txt file from the GDrive link and returns it as a string.</li>\n",
    "</ul>"
   ]
  },
  {
   "cell_type": "code",
   "execution_count": 3,
   "metadata": {},
   "outputs": [],
   "source": [
    "# class to load data\n",
    "# following this stackoverflow post to download directly from Google Drive:\n",
    "# https://stackoverflow.com/a/56611995\n",
    "\n",
    "class Downloader:\n",
    "    def __init__(self, gdrive_url):\n",
    "        self.path = gdrive_url   \n",
    "    def load_csv(self):\n",
    "        file_id = self.path.split('/')[-2]\n",
    "        dwn_url='https://drive.google.com/uc?export=download&id=' + file_id\n",
    "        url = requests.get(dwn_url).content\n",
    "        csv_raw = StringIO(url.decode('utf-8'))\n",
    "        df_ta = pd.read_csv(csv_raw)\n",
    "        return(df_ta)\n",
    "    def load_txt(self):\n",
    "        file_id = self.path.split('/')[-2]\n",
    "        dwn_url='https://drive.google.com/uc?export=download&id=' + file_id\n",
    "        #print(dwn_url)\n",
    "        url = requests.get(dwn_url).content\n",
    "        scifi = StringIO(url.decode('utf-8')).getvalue()\n",
    "        return(scifi)"
   ]
  },
  {
   "cell_type": "markdown",
   "metadata": {},
   "source": [
    "## Data-cleaner class\n",
    "As suggested in McMahan (Natural Language Processing with PyTorch), we have proceeded by lower-casing each sentence, by removing the punctuation and the non alphabetic characters, also the stopwords have been stripped away from the text. <br>\n",
    "The strings get lowercased in order to avoid seeing the words at the beginning of the phrases as different words. <br>\n",
    "Whitespaces are used to tokenize the strings.<br>\n",
    "This class has three methods and no constructor except from the default one: <br>\n",
    "<ul>\n",
    "    <li><b>remove_nonalpha_chars:</b> Takes as input a pandas dataframe and the name of a column, proceeds to remove all non alpha-chars from said column. Returns the cleaned dataframe;</li>\n",
    "    <li><b>lower_casing():</b> Takes a pandas dataframe and the name of the column to operate on, all the uppercase chars become lowercase. Returns the lowercased dataframe;</li>\n",
    "    <li><b>remove_stopwords():</b> Removes all the stopwords from the column of a dataframe, both fields of the function. It returns the cleaned dataframe.</li>\n",
    "</ul>"
   ]
  },
  {
   "cell_type": "code",
   "execution_count": 4,
   "metadata": {},
   "outputs": [
    {
     "name": "stderr",
     "output_type": "stream",
     "text": [
      "/home/tore/venv/lib/python3.7/site-packages/tqdm/std.py:668: FutureWarning: The Panel class is removed from pandas. Accessing it from the top-level namespace will also be removed in the next version\n",
      "  from pandas import Panel\n"
     ]
    }
   ],
   "source": [
    "# Stopword removal inspired by this stackoverlow answer\n",
    "# https://stackoverflow.com/a/43407993/7505264\n",
    "from nltk.corpus import stopwords\n",
    "stop = stopwords.words('english')\n",
    "tqdm.pandas()\n",
    "\n",
    "class DataCleaner:\n",
    "    def remove_nonalpha_chars(self, df, column):\n",
    "        df_out = df.copy(deep=True)\n",
    "        df_out[column] = df_out[column].progress_apply(lambda x: re.sub(r\"\\s*[^A-Za-z]+\\s*\", \" \", x))\n",
    "        return df_out\n",
    "    def lower_casing(self, df, column):\n",
    "        df_out = df.copy(deep=True)\n",
    "        df_out[column] = df_out[column].progress_apply(lambda x: x.lower())\n",
    "        return df_out \n",
    "    def remove_stopwords(self, df, column):\n",
    "        df_out = df.copy(deep=True)\n",
    "        df_out[column] = df_out[column].progress_apply(lambda x: ' '.join([word for word in (x.split()) if word not in (stop) and len(word) != 1]))\n",
    "        return df_out"
   ]
  },
  {
   "cell_type": "markdown",
   "metadata": {
    "id": "8lth8ThtWHuc"
   },
   "source": [
    "# Loading data\n",
    "Here the two datasets gets downloaded directly from Google Drive."
   ]
  },
  {
   "cell_type": "code",
   "execution_count": 5,
   "metadata": {
    "id": "tMgyvheSWKq2"
   },
   "outputs": [],
   "source": [
    "### URLS\n",
    "orig_url_ta = 'https://drive.google.com/file/d/1ihP1HZ8YHVGGIEp1RHxXdt3PPIi12xvL/view?usp=sharing'\n",
    "orig_url_scifi = \"https://drive.google.com/file/d/10ehW4jZND3QA29v9aNboYUett5-swuNe/view?usp=sharing\""
   ]
  },
  {
   "cell_type": "code",
   "execution_count": 6,
   "metadata": {},
   "outputs": [],
   "source": [
    "### DataLoaders\n",
    "TravAdvDataSetLoader = DataLoader(orig_url_ta)\n",
    "ScifiLoader = DataLoader(orig_url_scifi)"
   ]
  },
  {
   "cell_type": "code",
   "execution_count": 7,
   "metadata": {},
   "outputs": [],
   "source": [
    "### CSV and txts\n",
    "df_ta = TravAdvDataSetLoader.load_csv()\n",
    "scifi_txt = ScifiLoader.load_txt()"
   ]
  },
  {
   "cell_type": "markdown",
   "metadata": {
    "id": "_DbD_oHDW0_7"
   },
   "source": [
    "# Exploratory data analysis"
   ]
  },
  {
   "cell_type": "markdown",
   "metadata": {},
   "source": [
    "### Check if the datasets have been downloaded correctly\n",
    "This is done by printing in the first case the head of the pandas dataframe, in the second case by printing the first 500 chars of the text."
   ]
  },
  {
   "cell_type": "code",
   "execution_count": 8,
   "metadata": {
    "colab": {
     "base_uri": "https://localhost:8080/",
     "height": 255
    },
    "id": "DFspOK98W0Nq",
    "outputId": "6f473269-6e50-4c34-8467-def67c1bc926"
   },
   "outputs": [
    {
     "data": {
      "text/html": [
       "<div>\n",
       "<style scoped>\n",
       "    .dataframe tbody tr th:only-of-type {\n",
       "        vertical-align: middle;\n",
       "    }\n",
       "\n",
       "    .dataframe tbody tr th {\n",
       "        vertical-align: top;\n",
       "    }\n",
       "\n",
       "    .dataframe thead th {\n",
       "        text-align: right;\n",
       "    }\n",
       "</style>\n",
       "<table border=\"1\" class=\"dataframe\">\n",
       "  <thead>\n",
       "    <tr style=\"text-align: right;\">\n",
       "      <th></th>\n",
       "      <th>Review</th>\n",
       "      <th>Rating</th>\n",
       "    </tr>\n",
       "  </thead>\n",
       "  <tbody>\n",
       "    <tr>\n",
       "      <th>0</th>\n",
       "      <td>nice hotel expensive parking got good deal sta...</td>\n",
       "      <td>4</td>\n",
       "    </tr>\n",
       "    <tr>\n",
       "      <th>1</th>\n",
       "      <td>ok nothing special charge diamond member hilto...</td>\n",
       "      <td>2</td>\n",
       "    </tr>\n",
       "    <tr>\n",
       "      <th>2</th>\n",
       "      <td>nice rooms not 4* experience hotel monaco seat...</td>\n",
       "      <td>3</td>\n",
       "    </tr>\n",
       "    <tr>\n",
       "      <th>3</th>\n",
       "      <td>unique, great stay, wonderful time hotel monac...</td>\n",
       "      <td>5</td>\n",
       "    </tr>\n",
       "    <tr>\n",
       "      <th>4</th>\n",
       "      <td>great stay great stay, went seahawk game aweso...</td>\n",
       "      <td>5</td>\n",
       "    </tr>\n",
       "  </tbody>\n",
       "</table>\n",
       "</div>"
      ],
      "text/plain": [
       "                                              Review  Rating\n",
       "0  nice hotel expensive parking got good deal sta...       4\n",
       "1  ok nothing special charge diamond member hilto...       2\n",
       "2  nice rooms not 4* experience hotel monaco seat...       3\n",
       "3  unique, great stay, wonderful time hotel monac...       5\n",
       "4  great stay great stay, went seahawk game aweso...       5"
      ]
     },
     "execution_count": 8,
     "metadata": {},
     "output_type": "execute_result"
    }
   ],
   "source": [
    "df_ta.head()"
   ]
  },
  {
   "cell_type": "code",
   "execution_count": 9,
   "metadata": {},
   "outputs": [
    {
     "data": {
      "text/plain": [
       "20491"
      ]
     },
     "execution_count": 9,
     "metadata": {},
     "output_type": "execute_result"
    }
   ],
   "source": [
    "len(df_ta)"
   ]
  },
  {
   "cell_type": "markdown",
   "metadata": {},
   "source": [
    "Sci-fi story gets turned into a dataframe to allow a more proper cleaning."
   ]
  },
  {
   "cell_type": "code",
   "execution_count": 10,
   "metadata": {},
   "outputs": [],
   "source": [
    "scifi_dict = {\"Text\": [scifi_txt]}\n",
    "scifi_df = pd.DataFrame.from_dict(scifi_dict)"
   ]
  },
  {
   "cell_type": "code",
   "execution_count": 11,
   "metadata": {},
   "outputs": [
    {
     "data": {
      "text/plain": [
       "15388019"
      ]
     },
     "execution_count": 11,
     "metadata": {},
     "output_type": "execute_result"
    }
   ],
   "source": [
    "len(scifi_df[\"Text\"].iloc[0].split())"
   ]
  },
  {
   "cell_type": "markdown",
   "metadata": {
    "id": "sJNUSouXZzBI"
   },
   "source": [
    "**Observations**:\n",
    "\n",
    "\n",
    "1.   Some reveiw include the rating (i.e. 4*). This should be removed\n",
    "2.   The last line has a typo (and probably many other lines too) which add noise. A correction of all errors, however, is not realistic.\n"
   ]
  },
  {
   "cell_type": "markdown",
   "metadata": {
    "id": "253JGx_BcJN2"
   },
   "source": [
    "Now, we look for all characters used in the reviews to get an idea of how we need to preprocess the data. We can see that there are no foreign language characters in the data but a couple of symbols, special characters and emojis."
   ]
  },
  {
   "cell_type": "markdown",
   "metadata": {
    "id": "_JMqXL4FctBZ"
   },
   "source": [
    "# Data Preprocessing"
   ]
  },
  {
   "cell_type": "markdown",
   "metadata": {},
   "source": [
    "## Data Cleaning"
   ]
  },
  {
   "cell_type": "markdown",
   "metadata": {
    "id": "9CJVT_mwcwMg"
   },
   "source": [
    "For the data preprocessing, we first create a class that helps us to clean the data (following the OOP approach).\n",
    "\n",
    "**Note**: We only perform operations on the complete data set (training + test set) which do not lead to information leakage. Removing certain characters from the test set is a valid operation that also occurs in real world setting. Data is usually preprocessed before predictions are made."
   ]
  },
  {
   "cell_type": "markdown",
   "metadata": {},
   "source": [
    "After cleaning the data in the step below, we compare the results of the second review to confirm that the cleaning was successful.\n",
    "We realize that most comments contain typos and that some typos like \"did n't\" result in single characters in the corpus. Given that we cannot correct every typo, we accept this noise in our data. "
   ]
  },
  {
   "cell_type": "code",
   "execution_count": 12,
   "metadata": {
    "id": "nxy10s1tc9Yx"
   },
   "outputs": [
    {
     "data": {
      "application/vnd.jupyter.widget-view+json": {
       "model_id": "5e8810d2050c4db6932273f5cb1fb813",
       "version_major": 2,
       "version_minor": 0
      },
      "text/plain": [
       "HBox(children=(FloatProgress(value=0.0, max=20491.0), HTML(value='')))"
      ]
     },
     "metadata": {},
     "output_type": "display_data"
    },
    {
     "name": "stdout",
     "output_type": "stream",
     "text": [
      "\n"
     ]
    },
    {
     "data": {
      "application/vnd.jupyter.widget-view+json": {
       "model_id": "72a234776e35447d9a591b3934ded4c6",
       "version_major": 2,
       "version_minor": 0
      },
      "text/plain": [
       "HBox(children=(FloatProgress(value=0.0, max=20491.0), HTML(value='')))"
      ]
     },
     "metadata": {},
     "output_type": "display_data"
    },
    {
     "name": "stdout",
     "output_type": "stream",
     "text": [
      "\n"
     ]
    },
    {
     "data": {
      "application/vnd.jupyter.widget-view+json": {
       "model_id": "bd41051e21ce41b49dca3bb916e49d5d",
       "version_major": 2,
       "version_minor": 0
      },
      "text/plain": [
       "HBox(children=(FloatProgress(value=0.0, max=20491.0), HTML(value='')))"
      ]
     },
     "metadata": {},
     "output_type": "display_data"
    },
    {
     "name": "stdout",
     "output_type": "stream",
     "text": [
      "\n"
     ]
    }
   ],
   "source": [
    "DtCleaner = DataCleaner()\n",
    "\n",
    "df_ta_cl = DtCleaner.remove_nonalpha_chars(df_ta, 'Review')\n",
    "df_ta_cl = DtCleaner.lower_casing(df_ta_cl, 'Review')\n",
    "df_ta_cl = DtCleaner.remove_stopwords(df_ta_cl, 'Review')"
   ]
  },
  {
   "cell_type": "code",
   "execution_count": 14,
   "metadata": {},
   "outputs": [
    {
     "data": {
      "application/vnd.jupyter.widget-view+json": {
       "model_id": "4ee9c4f6f6914038a762a664525f4298",
       "version_major": 2,
       "version_minor": 0
      },
      "text/plain": [
       "HBox(children=(FloatProgress(value=0.0, max=1.0), HTML(value='')))"
      ]
     },
     "metadata": {},
     "output_type": "display_data"
    },
    {
     "name": "stdout",
     "output_type": "stream",
     "text": [
      "\n"
     ]
    }
   ],
   "source": [
    "df_scifi_cl = DtCleaner.remove_nonalpha_chars(scifi_df, \"Text\")"
   ]
  },
  {
   "cell_type": "code",
   "execution_count": 15,
   "metadata": {},
   "outputs": [
    {
     "data": {
      "application/vnd.jupyter.widget-view+json": {
       "model_id": "c94b0f0adc7b4c65aa7d04fb74ace1b0",
       "version_major": 2,
       "version_minor": 0
      },
      "text/plain": [
       "HBox(children=(FloatProgress(value=0.0, max=1.0), HTML(value='')))"
      ]
     },
     "metadata": {},
     "output_type": "display_data"
    },
    {
     "name": "stdout",
     "output_type": "stream",
     "text": [
      "\n"
     ]
    }
   ],
   "source": [
    "df_scifi_cl = DtCleaner.lower_casing(df_scifi_cl, \"Text\")"
   ]
  },
  {
   "cell_type": "code",
   "execution_count": 16,
   "metadata": {},
   "outputs": [
    {
     "data": {
      "application/vnd.jupyter.widget-view+json": {
       "model_id": "b7257b245ce244ba9f71322023ddee76",
       "version_major": 2,
       "version_minor": 0
      },
      "text/plain": [
       "HBox(children=(FloatProgress(value=0.0, max=1.0), HTML(value='')))"
      ]
     },
     "metadata": {},
     "output_type": "display_data"
    },
    {
     "name": "stdout",
     "output_type": "stream",
     "text": [
      "\n"
     ]
    }
   ],
   "source": [
    "df_scifi_cl = DtCleaner.remove_stopwords(df_scifi_cl, \"Text\")"
   ]
  },
  {
   "cell_type": "markdown",
   "metadata": {},
   "source": [
    "## Training/Test Data Set Preparation"
   ]
  },
  {
   "cell_type": "code",
   "execution_count": 86,
   "metadata": {},
   "outputs": [],
   "source": [
    "# splitting the data into a training and test set\n",
    "# using set seed to allow replication\n",
    "np.random.seed(123)\n",
    "m = np.random.rand(len(df_ta_cl)) < 0.7\n",
    "n = np.random.rand(len(df_scifi_cl)) < 0.7\n",
    "df_ta_train = df_ta_cl[m]\n",
    "df_ta_test = df_ta_cl[~m]"
   ]
  },
  {
   "cell_type": "code",
   "execution_count": 18,
   "metadata": {},
   "outputs": [
    {
     "data": {
      "text/plain": [
       "0.7005026597042604"
      ]
     },
     "execution_count": 18,
     "metadata": {},
     "output_type": "execute_result"
    }
   ],
   "source": [
    "# just checking if split was correct\n",
    "len(df_ta_train) / len(df_ta)"
   ]
  },
  {
   "cell_type": "code",
   "execution_count": 19,
   "metadata": {},
   "outputs": [
    {
     "data": {
      "text/plain": [
       "2006076"
      ]
     },
     "execution_count": 19,
     "metadata": {},
     "output_type": "execute_result"
    }
   ],
   "source": [
    "corpus_ta_train = df_ta_train['Review'].str.cat(sep=', ')\n",
    "corpus_ta_test =  df_ta_test['Review'].str.cat(sep=', ')\n",
    "\n",
    "corpus_ta = corpus_ta_train + corpus_ta_test\n",
    "len(corpus_ta.split())"
   ]
  },
  {
   "cell_type": "code",
   "execution_count": 148,
   "metadata": {},
   "outputs": [
    {
     "data": {
      "text/plain": [
       "'march stories new complete publisher editor published bi monthly quinn publishing company inc kingst'"
      ]
     },
     "execution_count": 148,
     "metadata": {},
     "output_type": "execute_result"
    }
   ],
   "source": [
    "corpus_scifi = df_scifi_cl[\"Text\"].iloc[0]"
   ]
  },
  {
   "cell_type": "markdown",
   "metadata": {},
   "source": [
    "from collections import Counter\n",
    "import matplotlib.pyplot as plt\n",
    "# FREQUENCIES OF WORDS IN CORPUS\n",
    "sorted_corpus_freqs_ta = sorted(Counter(corpus_ta.split(\" \")).items(), key=lambda x: x[1], reverse=True)\n",
    "plt.plot([(x[1]) for x in sorted_corpus_freqs_ta[:5]]), sorted_corpus_freqs_ta[:10]"
   ]
  },
  {
   "cell_type": "markdown",
   "metadata": {},
   "source": [
    "sorted_corpus_freqs_scifi = sorted(Counter(corpus_scifi.split(\" \")).items(), key=lambda x: x[1], reverse=True)\n",
    "plt.plot([(x[1]) for x in sorted_corpus_freqs_scifi[:10]]), sorted_corpus_freqs_scifi[:10]"
   ]
  },
  {
   "cell_type": "markdown",
   "metadata": {},
   "source": [
    "len(sorted_corpus_freqs_scifi)"
   ]
  },
  {
   "cell_type": "code",
   "execution_count": 22,
   "metadata": {},
   "outputs": [
    {
     "data": {
      "text/plain": [
       "0.7001007930355352"
      ]
     },
     "execution_count": 22,
     "metadata": {},
     "output_type": "execute_result"
    }
   ],
   "source": [
    "# we are checking the ration of training to test sample again because we split the dataframe above, not the corpus\n",
    "# in theory, we could have sampled a lot of rows from the DF with long strings and obtained a training set which is more than\n",
    "# 70% of the corpus. highly unlikely given the size of the DF and the random sampling. So just to make sure we got this right.\n",
    "\n",
    "len(corpus_ta_train) / (len(corpus_ta_train) + len(corpus_ta_test))"
   ]
  },
  {
   "cell_type": "code",
   "execution_count": 23,
   "metadata": {},
   "outputs": [
    {
     "name": "stdout",
     "output_type": "stream",
     "text": [
      "n voc train: 44016\n",
      "n voc test: 28326\n",
      "n voc combined: 52497\n"
     ]
    },
    {
     "data": {
      "text/plain": [
       "8480"
      ]
     },
     "execution_count": 23,
     "metadata": {},
     "output_type": "execute_result"
    }
   ],
   "source": [
    "print(\"n voc train: \" + str(len(set(corpus_ta_train.split()))))\n",
    "print(\"n voc test: \" + str(len(set(corpus_ta_test.split()))))\n",
    "\n",
    "print(\"n voc combined: \" + str(len(set((corpus_ta_train + corpus_ta_test).split()))))\n",
    "\n",
    "len(set(corpus_ta_test.split()).difference(set(corpus_ta_train.split())))"
   ]
  },
  {
   "cell_type": "code",
   "execution_count": 24,
   "metadata": {},
   "outputs": [],
   "source": [
    "# Vocabulary size and number of words in a sequence.\n",
    "vocab_size = 10000\n",
    "sequence_length = 100"
   ]
  },
  {
   "cell_type": "markdown",
   "metadata": {},
   "source": [
    "### Vocabulary encoding\n",
    "Encoding our vocabulary. We are encoding the full corpus, as suggested in the exercise forum."
   ]
  },
  {
   "cell_type": "code",
   "execution_count": 76,
   "metadata": {},
   "outputs": [],
   "source": [
    "vocab_ta = set(corpus_ta.split())\n",
    "vocab_ta_size = len(vocab_ta)\n",
    "\n",
    "word_to_ix = {word: i for i, word in enumerate(vocab_ta)}"
   ]
  },
  {
   "cell_type": "code",
   "execution_count": 79,
   "metadata": {},
   "outputs": [
    {
     "data": {
      "text/plain": [
       "{'burnpeople': 0,\n",
       " 'lfferty': 1,\n",
       " 'knit': 2,\n",
       " 'clendon': 3,\n",
       " 'particualr': 4,\n",
       " 'lewissohn': 5,\n",
       " 'everapprcciative': 6,\n",
       " 'hving': 7,\n",
       " 'hquidgolded': 8,\n",
       " 'misdemeanor': 9,\n",
       " 'backus': 10,\n",
       " 'calflength': 11,\n",
       " 'inchingly': 12,\n",
       " 'muriga': 13,\n",
       " 'damaged': 14,\n",
       " 'rotr': 15,\n",
       " 'doubledome': 16,\n",
       " 'lusted': 17,\n",
       " 'suvomese': 18,\n",
       " 'notificaition': 19,\n",
       " 'mcdicouncil': 20,\n",
       " 'hexmanstory': 21,\n",
       " 'colombia': 22,\n",
       " 'coulomb': 23,\n",
       " 'ssa': 24,\n",
       " 'oomph': 25,\n",
       " 'brews': 26,\n",
       " 'prepossessing': 27,\n",
       " 'followthat': 28,\n",
       " 'nsir': 29,\n",
       " 'produced': 30,\n",
       " 'broach': 31,\n",
       " 'therms': 32,\n",
       " 'bhidqsl': 33,\n",
       " 'crossopterygii': 34,\n",
       " 'newscasts': 35,\n",
       " 'felshaw': 36,\n",
       " 'menge': 37,\n",
       " 'subsidences': 38,\n",
       " 'enzymic': 39,\n",
       " 'battery': 40,\n",
       " 'huing': 41,\n",
       " 'cmdl': 42,\n",
       " 'tyires': 43,\n",
       " 'tuckees': 44,\n",
       " 'scjuat': 45,\n",
       " 'bobbin': 46,\n",
       " 'cowpile': 47,\n",
       " 'otear': 48,\n",
       " 'massages': 49,\n",
       " 'warmbludded': 50,\n",
       " 'scary': 51,\n",
       " 'greenrbordered': 52,\n",
       " 'zerog': 53,\n",
       " 'beteach': 54,\n",
       " 'casebook': 55,\n",
       " 'eater': 56,\n",
       " 'awwwwkk': 57,\n",
       " 'todbots': 58,\n",
       " 'imsisspw': 59,\n",
       " 'subception': 60,\n",
       " 'eu': 61,\n",
       " 'loiig': 62,\n",
       " 'pravda': 63,\n",
       " 'screwball': 64,\n",
       " 'leavin': 65,\n",
       " 'displease': 66,\n",
       " 'happened': 67,\n",
       " 'cajoled': 68,\n",
       " 'flensing': 69,\n",
       " 'regularization': 70,\n",
       " 'pummelled': 71,\n",
       " 'bloodrcoloced': 72,\n",
       " 'aboutwashington': 73,\n",
       " 'stilloperating': 74,\n",
       " 'metes': 75,\n",
       " 'unidentifiable': 76,\n",
       " 'otherworld': 77,\n",
       " 'undegstand': 78,\n",
       " 'ganap': 79,\n",
       " 'encumbrance': 80,\n",
       " 'pupae': 81,\n",
       " 'andeans': 82,\n",
       " 'counterplan': 83,\n",
       " 'kerrel': 84,\n",
       " 'dismrbance': 85,\n",
       " 'biochemist': 86,\n",
       " 'woise': 87,\n",
       " 'dunol': 88,\n",
       " 'undercoating': 89,\n",
       " 'vulgo': 90,\n",
       " 'relock': 91,\n",
       " 'paradises': 92,\n",
       " 'mentary': 93,\n",
       " 'bandylegged': 94,\n",
       " 'brakes': 95,\n",
       " 'davidson': 96,\n",
       " 'philiac': 97,\n",
       " 'scientese': 98,\n",
       " 'eadi': 99,\n",
       " 'blued': 100,\n",
       " 'sirs': 101,\n",
       " 'mtnical': 102,\n",
       " 'antiearthmen': 103,\n",
       " 'hoping': 104,\n",
       " 'leik': 105,\n",
       " 'godl': 106,\n",
       " 'headover': 107,\n",
       " 'cozies': 108,\n",
       " 'assumption': 109,\n",
       " 'scalded': 110,\n",
       " 'mareh': 111,\n",
       " 'deepcarpeted': 112,\n",
       " 'gegenbauer': 113,\n",
       " 'headeventually': 114,\n",
       " 'reagent': 115,\n",
       " 'thigbs': 116,\n",
       " 'pletely': 117,\n",
       " 'nrosinase': 118,\n",
       " 'hiirt': 119,\n",
       " 'scape': 120,\n",
       " 'bacteriophysicist': 121,\n",
       " 'stingers': 122,\n",
       " 'etre': 123,\n",
       " 'deed': 124,\n",
       " 'roadways': 125,\n",
       " 'halides': 126,\n",
       " 'tucanite': 127,\n",
       " 'stints': 128,\n",
       " 'coup': 129,\n",
       " 'carves': 130,\n",
       " 'weapoik': 131,\n",
       " 'incarceratoriums': 132,\n",
       " 'autocar': 133,\n",
       " 'irrespknsible': 134,\n",
       " 'eachj': 135,\n",
       " 'supremes': 136,\n",
       " 'jimson': 137,\n",
       " 'contestants': 138,\n",
       " 'usk': 139,\n",
       " 'butdetermined': 140,\n",
       " 'yledonous': 141,\n",
       " 'sulphury': 142,\n",
       " 'wodans': 143,\n",
       " 'lustiest': 144,\n",
       " 'rockin': 145,\n",
       " 'aimi': 146,\n",
       " 'lfbok': 147,\n",
       " 'agonizedly': 148,\n",
       " 'examinedv': 149,\n",
       " 'rqected': 150,\n",
       " 'dcdkled': 151,\n",
       " 'abstractionist': 152,\n",
       " 'jri': 153,\n",
       " 'hellcat': 154,\n",
       " 'iiti': 155,\n",
       " 'serpentining': 156,\n",
       " 'humanmanned': 157,\n",
       " 'paraphysicist': 158,\n",
       " 'courteously': 159,\n",
       " 'stranlund': 160,\n",
       " 'syndicalist': 161,\n",
       " 'rff': 162,\n",
       " 'zoos': 163,\n",
       " 'screwdrivers': 164,\n",
       " 'wastingl': 165,\n",
       " 'nike': 166,\n",
       " 'stopnow': 167,\n",
       " 'ecky': 168,\n",
       " 'demetrios': 169,\n",
       " 'guth': 170,\n",
       " 'mary': 171,\n",
       " 'omega': 172,\n",
       " 'honkytonk': 173,\n",
       " 'icily': 174,\n",
       " 'fbirole': 175,\n",
       " 'enlaced': 176,\n",
       " 'ravielli': 177,\n",
       " 'sufferer': 178,\n",
       " 'shoulders': 179,\n",
       " 'multisonic': 180,\n",
       " 'tiirew': 181,\n",
       " 'accoununcy': 182,\n",
       " 'cdisus': 183,\n",
       " 'sull': 184,\n",
       " 'diesem': 185,\n",
       " 'limqa': 186,\n",
       " 'peddling': 187,\n",
       " 'earthshine': 188,\n",
       " 'gibraltar': 189,\n",
       " 'ciae': 190,\n",
       " 'magnap': 191,\n",
       " 'overfondness': 192,\n",
       " 'rockahominy': 193,\n",
       " 'chesapeake': 194,\n",
       " 'ignium': 195,\n",
       " 'magistero': 196,\n",
       " 'interdis': 197,\n",
       " 'asmike': 198,\n",
       " 'deinfect': 199,\n",
       " 'liigh': 200,\n",
       " 'fcood': 201,\n",
       " 'nphis': 202,\n",
       " 'reappearing': 203,\n",
       " 'infantryman': 204,\n",
       " 'prompt': 205,\n",
       " 'oldlooking': 206,\n",
       " 'sgt': 207,\n",
       " 'ores': 208,\n",
       " 'individualists': 209,\n",
       " 'capjbain': 210,\n",
       " 'menthly': 211,\n",
       " 'phes': 212,\n",
       " 'experi': 213,\n",
       " 'whammy': 214,\n",
       " 'rise': 215,\n",
       " 'khachaturian': 216,\n",
       " 'driveway': 217,\n",
       " 'backstop': 218,\n",
       " 'barminess': 219,\n",
       " 'signficantly': 220,\n",
       " 'rogan': 221,\n",
       " 'concentwate': 222,\n",
       " 'somatics': 223,\n",
       " 'sopie': 224,\n",
       " 'schwarz': 225,\n",
       " 'processl': 226,\n",
       " 'exhil': 227,\n",
       " 'reknirhsdaeh': 228,\n",
       " 'adag': 229,\n",
       " 'staylit': 230,\n",
       " 'fleshwould': 231,\n",
       " 'blarn': 232,\n",
       " 'register': 233,\n",
       " 'cackled': 234,\n",
       " 'handmingled': 235,\n",
       " 'rumand': 236,\n",
       " 'faneweedi': 237,\n",
       " 'mandl': 238,\n",
       " 'gemmate': 239,\n",
       " 'kiddiebutt': 240,\n",
       " 'tralaser': 241,\n",
       " 'fairlv': 242,\n",
       " 'wvvvvvvvvvvvvvvvvvvvvvvvvvvvvvvmvvvvvvvmvvvvvvvvmvvvvvvvuvvvvvvvvvvvvvvvvvvvvvvvvvvvvvvvvvvvvvvvvvvvvvvvvvvvj': 243,\n",
       " 'scalnia': 244,\n",
       " 'lapaz': 245,\n",
       " 'ieh': 246,\n",
       " 'exceediny': 247,\n",
       " 'fantasist': 248,\n",
       " 'superspace': 249,\n",
       " 'ultravidet': 250,\n",
       " 'mosses': 251,\n",
       " 'nucleons': 252,\n",
       " 'naintongue': 253,\n",
       " 'mess': 254,\n",
       " 'wonderingiy': 255,\n",
       " 'mossy': 256,\n",
       " 'willoughby': 257,\n",
       " 'cct': 258,\n",
       " 'resti': 259,\n",
       " 'skymaster': 260,\n",
       " 'vthat': 261,\n",
       " 'opaquely': 262,\n",
       " 'episcopal': 263,\n",
       " 'livened': 264,\n",
       " 'menticom': 265,\n",
       " 'jungly': 266,\n",
       " 'saurian': 267,\n",
       " 'museek': 268,\n",
       " 'arbor': 269,\n",
       " 'tepped': 270,\n",
       " 'clangings': 271,\n",
       " 'dra': 272,\n",
       " 'altimeter': 273,\n",
       " 'priestessjudge': 274,\n",
       " 'aloafg': 275,\n",
       " 'lorluwus': 276,\n",
       " 'ambled': 277,\n",
       " 'deg': 278,\n",
       " 'homed': 279,\n",
       " 'ped': 280,\n",
       " 'bcause': 281,\n",
       " 'abacus': 282,\n",
       " 'pansfcat': 283,\n",
       " 'vhatever': 284,\n",
       " 'dieuy': 285,\n",
       " 'lelley': 286,\n",
       " 'juror': 287,\n",
       " 'alcorian': 288,\n",
       " 'liva': 289,\n",
       " 'blaspheming': 290,\n",
       " 'sequitur': 291,\n",
       " 'fiavor': 292,\n",
       " 'simeon': 293,\n",
       " 'darjeeling': 294,\n",
       " 'selecans': 295,\n",
       " 'clicy': 296,\n",
       " 'safetyvalve': 297,\n",
       " 'falklands': 298,\n",
       " 'prefix': 299,\n",
       " 'flocks': 300,\n",
       " 'jnedicinal': 301,\n",
       " 'cita': 302,\n",
       " 'marparli': 303,\n",
       " 'numbwit': 304,\n",
       " 'serrengian': 305,\n",
       " 'malingerer': 306,\n",
       " 'slitch': 307,\n",
       " 'purpkse': 308,\n",
       " 'unwitnessed': 309,\n",
       " 'landbound': 310,\n",
       " 'starpafhers': 311,\n",
       " 'greenstreet': 312,\n",
       " 'lending': 313,\n",
       " 'hemispheric': 314,\n",
       " 'se': 315,\n",
       " 'chalo': 316,\n",
       " 'ligjhits': 317,\n",
       " 'opalescent': 318,\n",
       " 'reardoni': 319,\n",
       " 'keelis': 320,\n",
       " 'worldmen': 321,\n",
       " 'dependables': 322,\n",
       " 'turningtoward': 323,\n",
       " 'dosn': 324,\n",
       " 'maving': 325,\n",
       " 'wenches': 326,\n",
       " 'sitari': 327,\n",
       " 'loorie': 328,\n",
       " 'ourohorous': 329,\n",
       " 'balustraded': 330,\n",
       " 'taumtowal': 331,\n",
       " 'vty': 332,\n",
       " 'tkat': 333,\n",
       " 'cient': 334,\n",
       " 'igr': 335,\n",
       " 'jie': 336,\n",
       " 'dare': 337,\n",
       " 'distempering': 338,\n",
       " 'thurm': 339,\n",
       " 'albsorption': 340,\n",
       " 'coresponsor': 341,\n",
       " 'krotalu': 342,\n",
       " 'legort': 343,\n",
       " 'toti': 344,\n",
       " 'hoopskirt': 345,\n",
       " 'nowp': 346,\n",
       " 'chavezian': 347,\n",
       " 'eleesa': 348,\n",
       " 'dimiber': 349,\n",
       " 'flonnie': 350,\n",
       " 'ffexibility': 351,\n",
       " 'imprimatur': 352,\n",
       " 'slipstreaming': 353,\n",
       " 'pharasang': 354,\n",
       " 'haptens': 355,\n",
       " 'crass': 356,\n",
       " 'htslth': 357,\n",
       " 'medicouncilor': 358,\n",
       " 'lifecycle': 359,\n",
       " 'ophthalmology': 360,\n",
       " 'cosmotheoros': 361,\n",
       " 'poc': 362,\n",
       " 'itlight': 363,\n",
       " 'jag': 364,\n",
       " 'paragon': 365,\n",
       " 'cornsies': 366,\n",
       " 'dnmkenly': 367,\n",
       " 'domineering': 368,\n",
       " 'addid': 369,\n",
       " 'shyst': 370,\n",
       " 'tobyt': 371,\n",
       " 'techboth': 372,\n",
       " 'porter': 373,\n",
       " 'catchbasin': 374,\n",
       " 'ibecame': 375,\n",
       " 'deepfreeze': 376,\n",
       " 'torte': 377,\n",
       " 'heliport': 378,\n",
       " 'iews': 379,\n",
       " 'laitghler': 380,\n",
       " 'mlirley': 381,\n",
       " 'abovea': 382,\n",
       " 'charta': 383,\n",
       " 'deadline': 384,\n",
       " 'disbict': 385,\n",
       " 'ithipped': 386,\n",
       " 'compliance': 387,\n",
       " 'gecko': 388,\n",
       " 'xnt': 389,\n",
       " 'shoidder': 390,\n",
       " 'dorrance': 391,\n",
       " 'overendways': 392,\n",
       " 'trattoria': 393,\n",
       " 'debilitate': 394,\n",
       " 'ibear': 395,\n",
       " 'overemphasis': 396,\n",
       " 'tales': 397,\n",
       " 'flimsies': 398,\n",
       " 'toground': 399,\n",
       " 'wjern': 400,\n",
       " 'ravens': 401,\n",
       " 'akhund': 402,\n",
       " 'hydroxethyl': 403,\n",
       " 'thyrano': 404,\n",
       " 'rosecrystal': 405,\n",
       " 'subcribe': 406,\n",
       " 'ushering': 407,\n",
       " 'clickpops': 408,\n",
       " 'braked': 409,\n",
       " 'tipper': 410,\n",
       " 'baycon': 411,\n",
       " 'lawbooks': 412,\n",
       " 'bref': 413,\n",
       " 'penology': 414,\n",
       " 'ohjectise': 415,\n",
       " 'sorn': 416,\n",
       " 'childlike': 417,\n",
       " 'estidollars': 418,\n",
       " 'clicksclickedwill': 419,\n",
       " 'shield': 420,\n",
       " 'herby': 421,\n",
       " 'enlarging': 422,\n",
       " 'worder': 423,\n",
       " 'amperage': 424,\n",
       " 'nucleomitrophobia': 425,\n",
       " 'closerto': 426,\n",
       " 'altalr': 427,\n",
       " 'rauscher': 428,\n",
       " 'dismounted': 429,\n",
       " 'regu': 430,\n",
       " 'otruding': 431,\n",
       " 'liglft': 432,\n",
       " 'beoring': 433,\n",
       " 'herbivora': 434,\n",
       " 'relocated': 435,\n",
       " 'nfortunately': 436,\n",
       " 'lmery': 437,\n",
       " 'apricots': 438,\n",
       " 'coffins': 439,\n",
       " 'remortal': 440,\n",
       " 'theq': 441,\n",
       " 'unkown': 442,\n",
       " 'throatclearing': 443,\n",
       " 'mossman': 444,\n",
       " 'snoll': 445,\n",
       " 'wdlman': 446,\n",
       " 'minerology': 447,\n",
       " 'noe': 448,\n",
       " 'reon': 449,\n",
       " 'bogger': 450,\n",
       " 'tactfut': 451,\n",
       " 'fielded': 452,\n",
       " 'gulfport': 453,\n",
       " 'veram': 454,\n",
       " 'unnerved': 455,\n",
       " 'stagger': 456,\n",
       " 'om': 457,\n",
       " 'ocs': 458,\n",
       " 'incandessuddenly': 459,\n",
       " 'viscount': 460,\n",
       " 'yang': 461,\n",
       " 'cambodian': 462,\n",
       " 'aggressive': 463,\n",
       " 'twict': 464,\n",
       " 'otnei': 465,\n",
       " 'dims': 466,\n",
       " 'experif': 467,\n",
       " 'earthwave': 468,\n",
       " 'clothet': 469,\n",
       " 'silverste': 470,\n",
       " 'cliarming': 471,\n",
       " 'hateything': 472,\n",
       " 'toiiimself': 473,\n",
       " 'unintended': 474,\n",
       " 'bradman': 475,\n",
       " 'bocediga': 476,\n",
       " 'pigeons': 477,\n",
       " 'lattorkni': 478,\n",
       " 'proclivity': 479,\n",
       " 'thodora': 480,\n",
       " 'pubescence': 481,\n",
       " 'breck': 482,\n",
       " 'plantation': 483,\n",
       " 'reassures': 484,\n",
       " 'turied': 485,\n",
       " 'ejchanging': 486,\n",
       " 'unfortun': 487,\n",
       " 'dumps': 488,\n",
       " 'purscmaker': 489,\n",
       " 'pery': 490,\n",
       " 'seemefr': 491,\n",
       " 'nddlotilno': 492,\n",
       " 'cosmographia': 493,\n",
       " 'mabel': 494,\n",
       " 'rluimni': 495,\n",
       " 'impassable': 496,\n",
       " 'purveyors': 497,\n",
       " 'entrapment': 498,\n",
       " 'shodowy': 499,\n",
       " 'awakening': 500,\n",
       " 'focussing': 501,\n",
       " 'quantities': 502,\n",
       " 'tranquil': 503,\n",
       " 'chrysanthemums': 504,\n",
       " 'holborn': 505,\n",
       " 'cinamo': 506,\n",
       " 'wowee': 507,\n",
       " 'ungrandladylike': 508,\n",
       " 'spacebound': 509,\n",
       " 'sproul': 510,\n",
       " 'acroaa': 511,\n",
       " 'netiher': 512,\n",
       " 'quarthat': 513,\n",
       " 'entropic': 514,\n",
       " 'girlthings': 515,\n",
       " 'devotedly': 516,\n",
       " 'desmids': 517,\n",
       " 'haunters': 518,\n",
       " 'unsealed': 519,\n",
       " 'intuitive': 520,\n",
       " 'embarassed': 521,\n",
       " 'intermingle': 522,\n",
       " 'rity': 523,\n",
       " 'jaksin': 524,\n",
       " 'havely': 525,\n",
       " 'scramblers': 526,\n",
       " 'geneticdesirability': 527,\n",
       " 'freaks': 528,\n",
       " 'brooksand': 529,\n",
       " 'ggy': 530,\n",
       " 'jennet': 531,\n",
       " 'thermo': 532,\n",
       " 'matical': 533,\n",
       " 'praecursor': 534,\n",
       " 'dizzied': 535,\n",
       " 'coverage': 536,\n",
       " 'antic': 537,\n",
       " 'sigillarias': 538,\n",
       " 'revisionist': 539,\n",
       " 'alaxlesl': 540,\n",
       " 'tically': 541,\n",
       " 'nutsi': 542,\n",
       " 'fwiend': 543,\n",
       " 'dumbness': 544,\n",
       " 'misreading': 545,\n",
       " 'attack': 546,\n",
       " 'kdatlyno': 547,\n",
       " 'hurler': 548,\n",
       " 'norrn': 549,\n",
       " 'inhumanness': 550,\n",
       " 'ajpstem': 551,\n",
       " 'mittee': 552,\n",
       " 'whilejhe': 553,\n",
       " 'shapelessness': 554,\n",
       " 'betterheeled': 555,\n",
       " 'broadaxe': 556,\n",
       " 'reftlly': 557,\n",
       " 'simulalion': 558,\n",
       " 'skrit': 559,\n",
       " 'qjupiter': 560,\n",
       " 'eithor': 561,\n",
       " 'allentown': 562,\n",
       " 'zwick': 563,\n",
       " 'iears': 564,\n",
       " 'metnoa': 565,\n",
       " 'gleamif': 566,\n",
       " 'screarned': 567,\n",
       " 'youinterstellferederhydrowithgenlawmassfulexecufrom': 568,\n",
       " 'bomb': 569,\n",
       " 'exhaustion': 570,\n",
       " 'spiked': 571,\n",
       " 'adjuring': 572,\n",
       " 'variety': 573,\n",
       " 'unrational': 574,\n",
       " 'fountainhead': 575,\n",
       " 'silverberg': 576,\n",
       " 'prel': 577,\n",
       " 'bergenfleld': 578,\n",
       " 'improbable': 579,\n",
       " 'nightdwellers': 580,\n",
       " 'fnstftutfon': 581,\n",
       " 'aready': 582,\n",
       " 'clemens': 583,\n",
       " 'poising': 584,\n",
       " 'bruth': 585,\n",
       " 'issve': 586,\n",
       " 'tiyitarigold': 587,\n",
       " 'fde': 588,\n",
       " 'pitch': 589,\n",
       " 'cloner': 590,\n",
       " 'cbjined': 591,\n",
       " 'nooty': 592,\n",
       " 'flames': 593,\n",
       " 'pigheaded': 594,\n",
       " 'opimsile': 595,\n",
       " 'scokh': 596,\n",
       " 'mythoxian': 597,\n",
       " 'galla': 598,\n",
       " 'bullyboys': 599,\n",
       " 'lowpowered': 600,\n",
       " 'eld': 601,\n",
       " 'clau': 602,\n",
       " 'inattendon': 603,\n",
       " 'peereing': 604,\n",
       " 'turbot': 605,\n",
       " 'dcstruct': 606,\n",
       " 'shavings': 607,\n",
       " 'peculiar': 608,\n",
       " 'bottlehots': 609,\n",
       " 'tbp': 610,\n",
       " 'airound': 611,\n",
       " 'deftness': 612,\n",
       " 'eshave': 613,\n",
       " 'copflat': 614,\n",
       " 'afom': 615,\n",
       " 'beguiling': 616,\n",
       " 'husted': 617,\n",
       " 'humdn': 618,\n",
       " 'roud': 619,\n",
       " 'harama': 620,\n",
       " 'notches': 621,\n",
       " 'sarong': 622,\n",
       " 'feghoot': 623,\n",
       " 'bowdlerization': 624,\n",
       " 'qitting': 625,\n",
       " 'aurorae': 626,\n",
       " 'chronically': 627,\n",
       " 'bluechips': 628,\n",
       " 'torbothan': 629,\n",
       " 'ihsh': 630,\n",
       " 'glook': 631,\n",
       " 'wheelhouse': 632,\n",
       " 'yeaaaa': 633,\n",
       " 'andsilent': 634,\n",
       " 'spacefleets': 635,\n",
       " 'rafngtraiioo': 636,\n",
       " 'statos': 637,\n",
       " 'littlechanged': 638,\n",
       " 'oommodore': 639,\n",
       " 'klein': 640,\n",
       " 'terranormal': 641,\n",
       " 'paycheck': 642,\n",
       " 'bellingrath': 643,\n",
       " 'schulz': 644,\n",
       " 'diners': 645,\n",
       " 'reconditioner': 646,\n",
       " 'coquette': 647,\n",
       " 'aiula': 648,\n",
       " 'wolfhounds': 649,\n",
       " 'prared': 650,\n",
       " 'leptic': 651,\n",
       " 'drritde': 652,\n",
       " 'sandler': 653,\n",
       " 'aptitudes': 654,\n",
       " 'base': 655,\n",
       " 'hakstrott': 656,\n",
       " 'inadvertantly': 657,\n",
       " 'unethical': 658,\n",
       " 'merchants': 659,\n",
       " 'sioux': 660,\n",
       " 'superddphin': 661,\n",
       " 'projfect': 662,\n",
       " 'oims': 663,\n",
       " 'teacups': 664,\n",
       " 'advantageous': 665,\n",
       " 'jine': 666,\n",
       " 'sugarless': 667,\n",
       " 'albother': 668,\n",
       " 'rocsates': 669,\n",
       " 'topranking': 670,\n",
       " 'jonesy': 671,\n",
       " 'lionel': 672,\n",
       " 'surround': 673,\n",
       " 'hima': 674,\n",
       " 'mortimer': 675,\n",
       " 'ierfect': 676,\n",
       " 'poor': 677,\n",
       " 'teaclier': 678,\n",
       " 'legencj': 679,\n",
       " 'durrell': 680,\n",
       " 'runners': 681,\n",
       " 'videotape': 682,\n",
       " 'tarper': 683,\n",
       " 'borriy': 684,\n",
       " 'chavez': 685,\n",
       " 'forgethce': 686,\n",
       " 'imnecessarily': 687,\n",
       " 'opensecret': 688,\n",
       " 'eardi': 689,\n",
       " 'equal': 690,\n",
       " 'kemridge': 691,\n",
       " 'mcdonnell': 692,\n",
       " 'enjdyed': 693,\n",
       " 'urhousen': 694,\n",
       " 'snappishly': 695,\n",
       " 'looka': 696,\n",
       " 'wheedling': 697,\n",
       " 'othecs': 698,\n",
       " 'ravin': 699,\n",
       " 'noint': 700,\n",
       " 'icers': 701,\n",
       " 'eartlnncn': 702,\n",
       " 'portland': 703,\n",
       " 'torchlighters': 704,\n",
       " 'jonasori': 705,\n",
       " 'hoppeni': 706,\n",
       " 'drecklich': 707,\n",
       " 'deeduction': 708,\n",
       " 'receivers': 709,\n",
       " 'sailed': 710,\n",
       " 'pockmark': 711,\n",
       " 'dalictha': 712,\n",
       " 'hatchways': 713,\n",
       " 'geologie': 714,\n",
       " 'administer': 715,\n",
       " 'uku': 716,\n",
       " 'lifeblood': 717,\n",
       " 'protosunlight': 718,\n",
       " 'instryiments': 719,\n",
       " 'narrowest': 720,\n",
       " 'milla': 721,\n",
       " 'unamiable': 722,\n",
       " 'annoyance': 723,\n",
       " 'cower': 724,\n",
       " 'troublet': 725,\n",
       " 'indetectable': 726,\n",
       " 'wingnut': 727,\n",
       " 'wingbeats': 728,\n",
       " 'integrally': 729,\n",
       " 'knifepwint': 730,\n",
       " 'mished': 731,\n",
       " 'nonhypnos': 732,\n",
       " 'brx': 733,\n",
       " 'whangin': 734,\n",
       " 'beeton': 735,\n",
       " 'dustier': 736,\n",
       " 'woolf': 737,\n",
       " 'darkcheckered': 738,\n",
       " 'jilanets': 739,\n",
       " 'florentines': 740,\n",
       " 'cadamosto': 741,\n",
       " 'nipoff': 742,\n",
       " 'smallbrain': 743,\n",
       " 'placable': 744,\n",
       " 'hospitali': 745,\n",
       " 'sponsons': 746,\n",
       " 'photovision': 747,\n",
       " 'froon': 748,\n",
       " 'painfuihy': 749,\n",
       " 'church': 750,\n",
       " 'suicided': 751,\n",
       " 'hominoid': 752,\n",
       " 'halitosic': 753,\n",
       " 'mercator': 754,\n",
       " 'macbeth': 755,\n",
       " 'sloppery': 756,\n",
       " 'chaainiry': 757,\n",
       " 'lifeguards': 758,\n",
       " 'ongin': 759,\n",
       " 'educating': 760,\n",
       " 'limpskinned': 761,\n",
       " 'beebe': 762,\n",
       " 'addicts': 763,\n",
       " 'locket': 764,\n",
       " 'brushless': 765,\n",
       " 'unawkward': 766,\n",
       " 'lanthanotus': 767,\n",
       " 'tumuli': 768,\n",
       " 'anadt': 769,\n",
       " 'leniniststalinist': 770,\n",
       " 'helipet': 771,\n",
       " 'wagons': 772,\n",
       " 'ctm': 773,\n",
       " 'pushy': 774,\n",
       " 'pluribus': 775,\n",
       " 'mccartys': 776,\n",
       " 'abopt': 777,\n",
       " 'carbonized': 778,\n",
       " 'aintest': 779,\n",
       " 'centurions': 780,\n",
       " 'clockwis': 781,\n",
       " 'gertips': 782,\n",
       " 'hrodenu': 783,\n",
       " 'arlor': 784,\n",
       " 'rankiing': 785,\n",
       " 'oftowners': 786,\n",
       " 'pinmiles': 787,\n",
       " 'presumalaborator': 788,\n",
       " 'veraiklaii': 789,\n",
       " 'balanites': 790,\n",
       " 'ebullism': 791,\n",
       " 'unforgivably': 792,\n",
       " 'thythtem': 793,\n",
       " 'exiedient': 794,\n",
       " 'literalness': 795,\n",
       " 'alreatly': 796,\n",
       " 'sacredncss': 797,\n",
       " 'shtdl': 798,\n",
       " 'patriotic': 799,\n",
       " 'invincibly': 800,\n",
       " 'camelopardist': 801,\n",
       " 'arbund': 802,\n",
       " 'sunbathed': 803,\n",
       " 'breached': 804,\n",
       " 'santesson': 805,\n",
       " 'venie': 806,\n",
       " 'xcoth': 807,\n",
       " 'unfulfilled': 808,\n",
       " 'slimg': 809,\n",
       " 'soooooo': 810,\n",
       " 'vibra': 811,\n",
       " 'consequential': 812,\n",
       " 'ceavenltnco': 813,\n",
       " 'devoutly': 814,\n",
       " 'imagined': 815,\n",
       " 'padlocked': 816,\n",
       " 'fakash': 817,\n",
       " 'photocheck': 818,\n",
       " 'sfunned': 819,\n",
       " 'prepackaged': 820,\n",
       " 'higherparaffin': 821,\n",
       " 'highwalled': 822,\n",
       " 'siths': 823,\n",
       " 'filibustered': 824,\n",
       " 'rm': 825,\n",
       " 'booklist': 826,\n",
       " 'eartliside': 827,\n",
       " 'holm': 828,\n",
       " 'frow': 829,\n",
       " 'deteriorates': 830,\n",
       " 'sunsailing': 831,\n",
       " 'wtas': 832,\n",
       " 'sightings': 833,\n",
       " 'abbreviating': 834,\n",
       " 'gangway': 835,\n",
       " 'que': 836,\n",
       " 'unseasonably': 837,\n",
       " 'darnedest': 838,\n",
       " 'triurriph': 839,\n",
       " 'nucleii': 840,\n",
       " 'sweetcakes': 841,\n",
       " 'supervisors': 842,\n",
       " 'kerned': 843,\n",
       " 'mutally': 844,\n",
       " 'longsuffering': 845,\n",
       " 'okayama': 846,\n",
       " 'alreadyexisted': 847,\n",
       " 'astreet': 848,\n",
       " 'metatunderneath': 849,\n",
       " 'whitish': 850,\n",
       " 'ethanol': 851,\n",
       " 'mirrorcolor': 852,\n",
       " 'chargedto': 853,\n",
       " 'clotted': 854,\n",
       " 'gerous': 855,\n",
       " 'jazztone': 856,\n",
       " 'tarras': 857,\n",
       " 'quetzal': 858,\n",
       " 'smearing': 859,\n",
       " 'stris': 860,\n",
       " 'nwide': 861,\n",
       " 'lizard': 862,\n",
       " 'propellants': 863,\n",
       " 'anthologizations': 864,\n",
       " 'appeared': 865,\n",
       " 'spectively': 866,\n",
       " 'exultation': 867,\n",
       " 'arnett': 868,\n",
       " 'otest': 869,\n",
       " 'pjb': 870,\n",
       " 'hasheesh': 871,\n",
       " 'ohnttered': 872,\n",
       " 'liixury': 873,\n",
       " 'diverged': 874,\n",
       " 'asconel': 875,\n",
       " 'spokenacted': 876,\n",
       " 'letter': 877,\n",
       " 'octave': 878,\n",
       " 'undersides': 879,\n",
       " 'aliuut': 880,\n",
       " 'ggure': 881,\n",
       " 'saidt': 882,\n",
       " 'sleeplike': 883,\n",
       " 'asleep': 884,\n",
       " 'asinine': 885,\n",
       " 'maisie': 886,\n",
       " 'albanian': 887,\n",
       " 'pathogen': 888,\n",
       " 'fhiat': 889,\n",
       " 'flustrated': 890,\n",
       " 'work': 891,\n",
       " 'moranites': 892,\n",
       " 'baffles': 893,\n",
       " 'mementos': 894,\n",
       " 'hpt': 895,\n",
       " 'wideawake': 896,\n",
       " 'hamiel': 897,\n",
       " 'psyche': 898,\n",
       " 'nightmarishly': 899,\n",
       " 'whqe': 900,\n",
       " 'foldy': 901,\n",
       " 'birkenia': 902,\n",
       " 'wander': 903,\n",
       " 'kneelers': 904,\n",
       " 'wudly': 905,\n",
       " 'circumstances': 906,\n",
       " 'holmesing': 907,\n",
       " 'minon': 908,\n",
       " 'eliminates': 909,\n",
       " 'harems': 910,\n",
       " 'ptoases': 911,\n",
       " 'hoarseiy': 912,\n",
       " 'cresentlal': 913,\n",
       " 'letup': 914,\n",
       " 'defendable': 915,\n",
       " 'plots': 916,\n",
       " 'abuilding': 917,\n",
       " 'sete': 918,\n",
       " 'scratchmarks': 919,\n",
       " 'sceptorlike': 920,\n",
       " 'cacophony': 921,\n",
       " 'gns': 922,\n",
       " 'pmqwe': 923,\n",
       " 'begg': 924,\n",
       " 'toanbdartrbltoii': 925,\n",
       " 'maximizing': 926,\n",
       " 'sellin': 927,\n",
       " 'koztn': 928,\n",
       " 'nero': 929,\n",
       " 'unemployable': 930,\n",
       " 'kts': 931,\n",
       " 'caim': 932,\n",
       " 'zmi': 933,\n",
       " 'lugard': 934,\n",
       " 'innkeepers': 935,\n",
       " 'unstriding': 936,\n",
       " 'soil': 937,\n",
       " 'grasshoppery': 938,\n",
       " 'broadshouldered': 939,\n",
       " 'robotronics': 940,\n",
       " 'jackspurt': 941,\n",
       " 'oanvas': 942,\n",
       " 'importanceeasily': 943,\n",
       " 'fourshot': 944,\n",
       " 'trophies': 945,\n",
       " 'sktian': 946,\n",
       " 'saphrophytism': 947,\n",
       " 'cadences': 948,\n",
       " 'cellsurgery': 949,\n",
       " 'imique': 950,\n",
       " 'jetcopters': 951,\n",
       " 'grimmando': 952,\n",
       " 'sleg': 953,\n",
       " 'duker': 954,\n",
       " 'absolutdy': 955,\n",
       " 'woii': 956,\n",
       " 'fardistant': 957,\n",
       " 'treat': 958,\n",
       " 'superinduce': 959,\n",
       " 'twopronged': 960,\n",
       " 'clamor': 961,\n",
       " 'enlivening': 962,\n",
       " 'centrist': 963,\n",
       " 'browsers': 964,\n",
       " 'ziggledy': 965,\n",
       " 'triplet': 966,\n",
       " 'redeems': 967,\n",
       " 'itp': 968,\n",
       " 'excusable': 969,\n",
       " 'barnoll': 970,\n",
       " 'blasphemous': 971,\n",
       " 'mitman': 972,\n",
       " 'slowiy': 973,\n",
       " 'obstructionist': 974,\n",
       " 'construetion': 975,\n",
       " 'handshaped': 976,\n",
       " 'brotherin': 977,\n",
       " 'lithians': 978,\n",
       " 'oveaeer': 979,\n",
       " 'specked': 980,\n",
       " 'inoperation': 981,\n",
       " 'davidi': 982,\n",
       " 'cuiller': 983,\n",
       " 'unstarched': 984,\n",
       " 'goaf': 985,\n",
       " 'vermiformoidy': 986,\n",
       " 'actimi': 987,\n",
       " 'iate': 988,\n",
       " 'poppa': 989,\n",
       " 'ahriman': 990,\n",
       " 'prie': 991,\n",
       " 'corselet': 992,\n",
       " 'elimination': 993,\n",
       " 'adorned': 994,\n",
       " 'hbw': 995,\n",
       " 'titbe': 996,\n",
       " 'structuring': 997,\n",
       " 'threedays': 998,\n",
       " 'crackiny': 999,\n",
       " ...}"
      ]
     },
     "execution_count": 79,
     "metadata": {},
     "output_type": "execute_result"
    }
   ],
   "source": [
    "vocab_scifi = set(corpus_scifi.split())\n",
    "vocab_scifi_size = len(vocab_scifi)\n",
    "\n",
    "word_to_ix_scifi = {word: i for i, word in enumerate(vocab_scifi)}\n",
    "word_to_ix_scifi"
   ]
  },
  {
   "cell_type": "code",
   "execution_count": 27,
   "metadata": {},
   "outputs": [],
   "source": [
    "# Turning the corpus into training and test data \n",
    "CONTEXT_SIZE = 2"
   ]
  },
  {
   "cell_type": "code",
   "execution_count": 28,
   "metadata": {},
   "outputs": [],
   "source": [
    "class VectorizerCBOW: \n",
    "    def vectorize(self, context_size, corpus):        \n",
    "        # first, extract the context words and the corresponding central words\n",
    "        data = []\n",
    "        corpus_splt = corpus.split()\n",
    "        for i in tqdm(range(2, len(corpus_splt) - 2)):\n",
    "            context = [corpus_splt[i - 2], corpus_splt[i - 1],\n",
    "                       corpus_splt[i + 1], corpus_splt[i + 2]]\n",
    "            target = corpus_splt[i]\n",
    "            data.append((context, target))   \n",
    "        return data"
   ]
  },
  {
   "cell_type": "code",
   "execution_count": 29,
   "metadata": {},
   "outputs": [
    {
     "data": {
      "application/vnd.jupyter.widget-view+json": {
       "model_id": "7b88062486234f5fa47d1d8ae9def4e1",
       "version_major": 2,
       "version_minor": 0
      },
      "text/plain": [
       "HBox(children=(FloatProgress(value=0.0, max=1404241.0), HTML(value='')))"
      ]
     },
     "metadata": {},
     "output_type": "display_data"
    },
    {
     "name": "stdout",
     "output_type": "stream",
     "text": [
      "\n"
     ]
    },
    {
     "data": {
      "application/vnd.jupyter.widget-view+json": {
       "model_id": "e2964ed46b154a9a8565750f226e09cf",
       "version_major": 2,
       "version_minor": 0
      },
      "text/plain": [
       "HBox(children=(FloatProgress(value=0.0, max=7699160.0), HTML(value='')))"
      ]
     },
     "metadata": {},
     "output_type": "display_data"
    },
    {
     "name": "stdout",
     "output_type": "stream",
     "text": [
      "\n"
     ]
    }
   ],
   "source": [
    "VectCBOW = VectorizerCBOW()\n",
    "\n",
    "cont_targ_train = VectCBOW.vectorize(CONTEXT_SIZE, corpus_ta_train)\n",
    "cont_scifi_train = VectCBOW.vectorize(CONTEXT_SIZE, corpus_scifi)"
   ]
  },
  {
   "cell_type": "code",
   "execution_count": 147,
   "metadata": {},
   "outputs": [
    {
     "data": {
      "text/plain": [
       "[(['march', 'stories', 'complete', 'publisher'], 'new'),\n",
       " (['stories', 'new', 'publisher', 'editor'], 'complete'),\n",
       " (['new', 'complete', 'editor', 'published'], 'publisher'),\n",
       " (['complete', 'publisher', 'published', 'bi'], 'editor'),\n",
       " (['publisher', 'editor', 'bi', 'monthly'], 'published'),\n",
       " (['editor', 'published', 'monthly', 'quinn'], 'bi'),\n",
       " (['published', 'bi', 'quinn', 'publishing'], 'monthly'),\n",
       " (['bi', 'monthly', 'publishing', 'company'], 'quinn'),\n",
       " (['monthly', 'quinn', 'company', 'inc'], 'publishing'),\n",
       " (['quinn', 'publishing', 'inc', 'kingston'], 'company'),\n",
       " (['publishing', 'company', 'kingston', 'new'], 'inc'),\n",
       " (['company', 'inc', 'new', 'york'], 'kingston'),\n",
       " (['inc', 'kingston', 'york', 'volume'], 'new'),\n",
       " (['kingston', 'new', 'volume', 'copyright'], 'york'),\n",
       " (['new', 'york', 'copyright', 'quinn'], 'volume'),\n",
       " (['york', 'volume', 'quinn', 'publishing'], 'copyright'),\n",
       " (['volume', 'copyright', 'publishing', 'company'], 'quinn'),\n",
       " (['copyright', 'quinn', 'company', 'inc'], 'publishing'),\n",
       " (['quinn', 'publishing', 'inc', 'application'], 'company'),\n",
       " (['publishing', 'company', 'application', 'entry'], 'inc'),\n",
       " (['company', 'inc', 'entry', 'second'], 'application'),\n",
       " (['inc', 'application', 'second', 'class'], 'entry'),\n",
       " (['application', 'entry', 'class', 'matter'], 'second'),\n",
       " (['entry', 'second', 'matter', 'post'], 'class'),\n",
       " (['second', 'class', 'post', 'office'], 'matter'),\n",
       " (['class', 'matter', 'office', 'buffalo'], 'post'),\n",
       " (['matter', 'post', 'buffalo', 'new'], 'office'),\n",
       " (['post', 'office', 'new', 'york'], 'buffalo'),\n",
       " (['office', 'buffalo', 'york', 'pending'], 'new'),\n",
       " (['buffalo', 'new', 'pending', 'subscription'], 'york'),\n",
       " (['new', 'york', 'subscription', 'issues'], 'pending'),\n",
       " (['york', 'pending', 'issues', 'possessions'], 'subscription'),\n",
       " (['pending', 'subscription', 'possessions', 'canada'], 'issues'),\n",
       " (['subscription', 'issues', 'canada', 'issues'], 'possessions'),\n",
       " (['issues', 'possessions', 'issues', 'elsewhere'], 'canada'),\n",
       " (['possessions', 'canada', 'elsewhere', 'aiiow'], 'issues'),\n",
       " (['canada', 'issues', 'aiiow', 'four'], 'elsewhere'),\n",
       " (['issues', 'elsewhere', 'four', 'weeks'], 'aiiow'),\n",
       " (['elsewhere', 'aiiow', 'weeks', 'change'], 'four'),\n",
       " (['aiiow', 'four', 'change', 'address'], 'weeks'),\n",
       " (['four', 'weeks', 'address', 'stories'], 'change'),\n",
       " (['weeks', 'change', 'stories', 'appearing'], 'address'),\n",
       " (['change', 'address', 'appearing', 'magazine'], 'stories'),\n",
       " (['address', 'stories', 'magazine', 'fiction'], 'appearing'),\n",
       " (['stories', 'appearing', 'fiction', 'similarity'], 'magazine'),\n",
       " (['appearing', 'magazine', 'similarity', 'actual'], 'fiction'),\n",
       " (['magazine', 'fiction', 'actual', 'persons'], 'similarity'),\n",
       " (['fiction', 'similarity', 'persons', 'coincidental'], 'actual'),\n",
       " (['similarity', 'actual', 'coincidental', 'fcopy'], 'persons'),\n",
       " (['actual', 'persons', 'fcopy', 'printed'], 'coincidental'),\n",
       " (['persons', 'coincidental', 'printed', 'ia'], 'fcopy'),\n",
       " (['coincidental', 'fcopy', 'ia', 'chat'], 'printed'),\n",
       " (['fcopy', 'printed', 'chat', 'editor'], 'ia'),\n",
       " (['printed', 'ia', 'editor', 'science'], 'chat'),\n",
       " (['ia', 'chat', 'science', 'fiction'], 'editor'),\n",
       " (['chat', 'editor', 'fiction', 'magazine'], 'science'),\n",
       " (['editor', 'science', 'magazine', 'called'], 'fiction'),\n",
       " (['science', 'fiction', 'called', 'title'], 'magazine'),\n",
       " (['fiction', 'magazine', 'title', 'selected'], 'called'),\n",
       " (['magazine', 'called', 'selected', 'much'], 'title'),\n",
       " (['called', 'title', 'much', 'thought'], 'selected'),\n",
       " (['title', 'selected', 'thought', 'brevity'], 'much'),\n",
       " (['selected', 'much', 'brevity', 'theory'], 'thought'),\n",
       " (['much', 'thought', 'theory', 'indicative'], 'brevity'),\n",
       " (['thought', 'brevity', 'indicative', 'field'], 'theory'),\n",
       " (['brevity', 'theory', 'field', 'easy'], 'indicative'),\n",
       " (['theory', 'indicative', 'easy', 'remember'], 'field'),\n",
       " (['indicative', 'field', 'remember', 'tentative'], 'easy'),\n",
       " (['field', 'easy', 'tentative', 'title'], 'remember'),\n",
       " (['easy', 'remember', 'title', 'morning'], 'tentative'),\n",
       " (['remember', 'tentative', 'morning', 'remember'], 'title'),\n",
       " (['tentative', 'title', 'remember', 'cup'], 'morning'),\n",
       " (['title', 'morning', 'cup', 'coffee'], 'remember'),\n",
       " (['morning', 'remember', 'coffee', 'summarily'], 'cup'),\n",
       " (['remember', 'cup', 'summarily', 'discarded'], 'coffee'),\n",
       " (['cup', 'coffee', 'discarded', 'great'], 'summarily'),\n",
       " (['coffee', 'summarily', 'great', 'deal'], 'discarded'),\n",
       " (['summarily', 'discarded', 'deal', 'thought'], 'great'),\n",
       " (['discarded', 'great', 'thought', 'effort'], 'deal'),\n",
       " (['great', 'deal', 'effort', 'lias'], 'thought'),\n",
       " (['deal', 'thought', 'lias', 'gone'], 'effort'),\n",
       " (['thought', 'effort', 'gone', 'formation'], 'lias'),\n",
       " (['effort', 'lias', 'formation', 'magazine'], 'gone'),\n",
       " (['lias', 'gone', 'magazine', 'aid'], 'formation'),\n",
       " (['gone', 'formation', 'aid', 'several'], 'magazine'),\n",
       " (['formation', 'magazine', 'several', 'talented'], 'aid'),\n",
       " (['magazine', 'aid', 'talented', 'generous'], 'several'),\n",
       " (['aid', 'several', 'generous', 'people'], 'talented'),\n",
       " (['several', 'talented', 'people', 'grateful'], 'generous'),\n",
       " (['talented', 'generous', 'grateful', 'much'], 'people'),\n",
       " (['generous', 'people', 'much', 'due'], 'grateful'),\n",
       " (['people', 'grateful', 'due', 'warmhearted'], 'much'),\n",
       " (['grateful', 'much', 'warmhearted', 'assistance'], 'due'),\n",
       " (['much', 'due', 'assistance', 'bulk'], 'warmhearted'),\n",
       " (['due', 'warmhearted', 'bulk', 'formative'], 'assistance'),\n",
       " (['warmhearted', 'assistance', 'formative', 'work'], 'bulk'),\n",
       " (['assistance', 'bulk', 'work', 'done'], 'formative'),\n",
       " (['bulk', 'formative', 'done', 'try'], 'work'),\n",
       " (['formative', 'work', 'try', 'maintain'], 'done'),\n",
       " (['work', 'done', 'maintain', 'one'], 'try')]"
      ]
     },
     "execution_count": 147,
     "metadata": {},
     "output_type": "execute_result"
    }
   ],
   "source": [
    "cont_scifi_train[:100]"
   ]
  },
  {
   "cell_type": "code",
   "execution_count": 30,
   "metadata": {},
   "outputs": [],
   "source": [
    "class VectorizerCBOWContextWindow:\n",
    "    def __init__(self, context_width):\n",
    "        self.width = context_width\n",
    "    def vectorize(self, context_size, corpus):\n",
    "        data = []\n",
    "        corpus_splt = corpus.split()\n",
    "        for i in tqdm(range(self.width, len(corpus_splt) - self.width)):\n",
    "            context = corpus_splt[(i - self.width):(i + self.width + 1)]\n",
    "            context.remove(corpus_splt[i])\n",
    "            target = corpus_splt[i]\n",
    "            data.append((context, target))   \n",
    "        return data"
   ]
  },
  {
   "cell_type": "code",
   "execution_count": 31,
   "metadata": {},
   "outputs": [
    {
     "data": {
      "application/vnd.jupyter.widget-view+json": {
       "model_id": "0c7e52cf2c5d4de797c719f625a660d3",
       "version_major": 2,
       "version_minor": 0
      },
      "text/plain": [
       "HBox(children=(FloatProgress(value=0.0, max=1404235.0), HTML(value='')))"
      ]
     },
     "metadata": {},
     "output_type": "display_data"
    },
    {
     "name": "stdout",
     "output_type": "stream",
     "text": [
      "\n"
     ]
    },
    {
     "data": {
      "application/vnd.jupyter.widget-view+json": {
       "model_id": "dda0ac8c6029494fb497d325888fb2b8",
       "version_major": 2,
       "version_minor": 0
      },
      "text/plain": [
       "HBox(children=(FloatProgress(value=0.0, max=7699154.0), HTML(value='')))"
      ]
     },
     "metadata": {},
     "output_type": "display_data"
    },
    {
     "name": "stdout",
     "output_type": "stream",
     "text": [
      "\n"
     ]
    }
   ],
   "source": [
    "VectCBOW_contwind = VectorizerCBOWContextWindow(5)\n",
    "\n",
    "cont_targ_train_ca5 = VectCBOW_contwind.vectorize(CONTEXT_SIZE, corpus_ta_train)\n",
    "cont_scifi_train_ca5 = VectCBOW_contwind.vectorize(CONTEXT_SIZE, corpus_scifi)"
   ]
  },
  {
   "cell_type": "code",
   "execution_count": 33,
   "metadata": {},
   "outputs": [
    {
     "data": {
      "text/plain": [
       "(1404241,\n",
       " [(['nice', 'hotel', 'parking', 'got'], 'expensive'),\n",
       "  (['hotel', 'expensive', 'got', 'good'], 'parking'),\n",
       "  (['expensive', 'parking', 'good', 'deal'], 'got')])"
      ]
     },
     "execution_count": 33,
     "metadata": {},
     "output_type": "execute_result"
    }
   ],
   "source": [
    "len(cont_targ_train), cont_targ_train[:3]"
   ]
  },
  {
   "cell_type": "code",
   "execution_count": 34,
   "metadata": {},
   "outputs": [],
   "source": [
    "random.shuffle(cont_targ_train)"
   ]
  },
  {
   "cell_type": "markdown",
   "metadata": {},
   "source": [
    "### Cont_targ_train is too big to be used\n",
    "Taking a randomly shuffled subset to make everything work. <br>\n",
    "It will affect embedding quality"
   ]
  },
  {
   "cell_type": "code",
   "execution_count": 35,
   "metadata": {},
   "outputs": [],
   "source": [
    "subset_tripad = cont_targ_train[:int(len(cont_targ_train)*0.10)]"
   ]
  },
  {
   "cell_type": "code",
   "execution_count": 36,
   "metadata": {},
   "outputs": [
    {
     "data": {
      "text/plain": [
       "(140424,\n",
       " [(['chic', 'comfortable', 'appointment', 'room'], 'lighting'),\n",
       "  (['blast', 'recommend', 'fun', 'added'], 'join'),\n",
       "  (['parasailing', 'stuff', 'waiting', 'hours'], 'leave')])"
      ]
     },
     "execution_count": 36,
     "metadata": {},
     "output_type": "execute_result"
    }
   ],
   "source": [
    "len(subset_tripad), subset_tripad[:3]"
   ]
  },
  {
   "cell_type": "markdown",
   "metadata": {},
   "source": [
    "Until here, everything works <br>\n",
    "Below, work in progress <br>\n",
    "# Hic sunt dracones"
   ]
  },
  {
   "cell_type": "code",
   "execution_count": 72,
   "metadata": {},
   "outputs": [],
   "source": [
    "class CBOW(nn.Module):\n",
    "    def __init__(self, vocab_size, embedding_dim, context_size):\n",
    "        super(CBOW, self).__init__()\n",
    "        self.embeddings = nn.Embedding(vocab_size, embedding_dim)\n",
    "        print(str(self.embeddings))\n",
    "        #self.linear1 = nn.Linear(context_size * embedding_dim, 128)\n",
    "        self.linear1 = nn.Linear(context_size * 2 * embedding_dim, 128)\n",
    "        #self.linear1 = nn.Linear(200, 1)\n",
    "        #print(\"Cont_size * emb_dim: \", context_size * embedding_dim)\n",
    "        #self.linear2 = nn.Linear(128, vocab_size)\n",
    "        self.linear2 = nn.Linear(128, vocab_size)\n",
    "        \n",
    "    def forward(self, inputs):\n",
    "        out = self.embeddings(inputs).view(1, -1)\n",
    "        out = out.view(1,-1)\n",
    "        out = self.linear1(out)\n",
    "        out = F.relu(out)\n",
    "        out = self.linear2(out)\n",
    "        out = F.log_softmax(out, dim=1)\n",
    "        return out\n",
    "    \n",
    "    def predict(self, input):\n",
    "        context_idxs = torch.tensor([word_to_ix[w] for w in input], dtype=torch.long)\n",
    "        res = self.forward(context_idxs)\n",
    "        res_arg = torch.argmax(res)\n",
    "        res_val, res_ind = res.sort(descending=True)\n",
    "        res_val = res_val[0][:5]\n",
    "        res_ind = res_ind[0][:5]\n",
    "        #print(res_val)\n",
    "        #print(res_ind)\n",
    "        for arg in zip(res_val,res_ind):\n",
    "            #print(arg)\n",
    "            print([(key,val,arg[0]) for key,val in word_to_ix.items() if val == arg[1]])\n"
   ]
  },
  {
   "cell_type": "code",
   "execution_count": 85,
   "metadata": {},
   "outputs": [
    {
     "name": "stdout",
     "output_type": "stream",
     "text": [
      "Context size:  2\n",
      "Embedding(52497, 50)\n"
     ]
    },
    {
     "data": {
      "application/vnd.jupyter.widget-view+json": {
       "model_id": "6513efed3870414ea79053d864c2dfa6",
       "version_major": 2,
       "version_minor": 0
      },
      "text/plain": [
       "HBox(children=(FloatProgress(value=0.0, max=25.0), HTML(value='')))"
      ]
     },
     "metadata": {},
     "output_type": "display_data"
    },
    {
     "name": "stdout",
     "output_type": "stream",
     "text": [
      "0\n"
     ]
    },
    {
     "data": {
      "application/vnd.jupyter.widget-view+json": {
       "model_id": "f0e8ce11726041138be2abd734c35cd4",
       "version_major": 2,
       "version_minor": 0
      },
      "text/plain": [
       "HBox(children=(FloatProgress(value=0.0, max=15000.0), HTML(value='')))"
      ]
     },
     "metadata": {},
     "output_type": "display_data"
    },
    {
     "name": "stdout",
     "output_type": "stream",
     "text": [
      "\n",
      "161416.76233291626\n",
      "1\n"
     ]
    },
    {
     "data": {
      "application/vnd.jupyter.widget-view+json": {
       "model_id": "d122f5ebc65b442c9d499e67398d67c6",
       "version_major": 2,
       "version_minor": 0
      },
      "text/plain": [
       "HBox(children=(FloatProgress(value=0.0, max=15000.0), HTML(value='')))"
      ]
     },
     "metadata": {},
     "output_type": "display_data"
    },
    {
     "name": "stdout",
     "output_type": "stream",
     "text": [
      "\n",
      "154840.72407585382\n",
      "2\n"
     ]
    },
    {
     "data": {
      "application/vnd.jupyter.widget-view+json": {
       "model_id": "3c90ac59bcba4475a2ea50aa46c035f7",
       "version_major": 2,
       "version_minor": 0
      },
      "text/plain": [
       "HBox(children=(FloatProgress(value=0.0, max=15000.0), HTML(value='')))"
      ]
     },
     "metadata": {},
     "output_type": "display_data"
    },
    {
     "name": "stdout",
     "output_type": "stream",
     "text": [
      "\n",
      "146498.98088681698\n",
      "3\n"
     ]
    },
    {
     "data": {
      "application/vnd.jupyter.widget-view+json": {
       "model_id": "d6331908c8d243a69d0e876f4d8377e1",
       "version_major": 2,
       "version_minor": 0
      },
      "text/plain": [
       "HBox(children=(FloatProgress(value=0.0, max=15000.0), HTML(value='')))"
      ]
     },
     "metadata": {},
     "output_type": "display_data"
    },
    {
     "name": "stdout",
     "output_type": "stream",
     "text": [
      "\n",
      "138018.96262705326\n",
      "4\n"
     ]
    },
    {
     "data": {
      "application/vnd.jupyter.widget-view+json": {
       "model_id": "aa23de12f7d9499aa7c923b4a55db778",
       "version_major": 2,
       "version_minor": 0
      },
      "text/plain": [
       "HBox(children=(FloatProgress(value=0.0, max=15000.0), HTML(value='')))"
      ]
     },
     "metadata": {},
     "output_type": "display_data"
    },
    {
     "name": "stdout",
     "output_type": "stream",
     "text": [
      "\n",
      "130874.52177551389\n",
      "5\n"
     ]
    },
    {
     "data": {
      "application/vnd.jupyter.widget-view+json": {
       "model_id": "ab0fca5b11954684b1680007b0836ad8",
       "version_major": 2,
       "version_minor": 0
      },
      "text/plain": [
       "HBox(children=(FloatProgress(value=0.0, max=15000.0), HTML(value='')))"
      ]
     },
     "metadata": {},
     "output_type": "display_data"
    },
    {
     "name": "stdout",
     "output_type": "stream",
     "text": [
      "\n",
      "124745.04906210303\n",
      "6\n"
     ]
    },
    {
     "data": {
      "application/vnd.jupyter.widget-view+json": {
       "model_id": "f5cd95d752514660bcc59dd3cd6495f2",
       "version_major": 2,
       "version_minor": 0
      },
      "text/plain": [
       "HBox(children=(FloatProgress(value=0.0, max=15000.0), HTML(value='')))"
      ]
     },
     "metadata": {},
     "output_type": "display_data"
    },
    {
     "name": "stdout",
     "output_type": "stream",
     "text": [
      "\n",
      "119561.5869319439\n",
      "7\n"
     ]
    },
    {
     "data": {
      "application/vnd.jupyter.widget-view+json": {
       "model_id": "2eb6662c9294441ebb841bb37caa1016",
       "version_major": 2,
       "version_minor": 0
      },
      "text/plain": [
       "HBox(children=(FloatProgress(value=0.0, max=15000.0), HTML(value='')))"
      ]
     },
     "metadata": {},
     "output_type": "display_data"
    },
    {
     "name": "stdout",
     "output_type": "stream",
     "text": [
      "\n",
      "115062.40591021627\n",
      "8\n"
     ]
    },
    {
     "data": {
      "application/vnd.jupyter.widget-view+json": {
       "model_id": "ded13b139d9b426592e349b139ec1d73",
       "version_major": 2,
       "version_minor": 0
      },
      "text/plain": [
       "HBox(children=(FloatProgress(value=0.0, max=15000.0), HTML(value='')))"
      ]
     },
     "metadata": {},
     "output_type": "display_data"
    },
    {
     "name": "stdout",
     "output_type": "stream",
     "text": [
      "\n",
      "110978.75169625133\n",
      "9\n"
     ]
    },
    {
     "data": {
      "application/vnd.jupyter.widget-view+json": {
       "model_id": "8c7705b784864df1896fc2408377165c",
       "version_major": 2,
       "version_minor": 0
      },
      "text/plain": [
       "HBox(children=(FloatProgress(value=0.0, max=15000.0), HTML(value='')))"
      ]
     },
     "metadata": {},
     "output_type": "display_data"
    },
    {
     "name": "stdout",
     "output_type": "stream",
     "text": [
      "\n",
      "107150.17420903593\n",
      "10\n"
     ]
    },
    {
     "data": {
      "application/vnd.jupyter.widget-view+json": {
       "model_id": "b4aaf6e4d0ca4b439e14b503149964cb",
       "version_major": 2,
       "version_minor": 0
      },
      "text/plain": [
       "HBox(children=(FloatProgress(value=0.0, max=15000.0), HTML(value='')))"
      ]
     },
     "metadata": {},
     "output_type": "display_data"
    },
    {
     "name": "stdout",
     "output_type": "stream",
     "text": [
      "\n",
      "103485.12048325688\n",
      "11\n"
     ]
    },
    {
     "data": {
      "application/vnd.jupyter.widget-view+json": {
       "model_id": "13086042d0b04296b3ad70b7a6ef6f79",
       "version_major": 2,
       "version_minor": 0
      },
      "text/plain": [
       "HBox(children=(FloatProgress(value=0.0, max=15000.0), HTML(value='')))"
      ]
     },
     "metadata": {},
     "output_type": "display_data"
    },
    {
     "name": "stdout",
     "output_type": "stream",
     "text": [
      "\n",
      "99920.95821033046\n",
      "12\n"
     ]
    },
    {
     "data": {
      "application/vnd.jupyter.widget-view+json": {
       "model_id": "7ed6935bc119435cb9f1c6b3bec26fbb",
       "version_major": 2,
       "version_minor": 0
      },
      "text/plain": [
       "HBox(children=(FloatProgress(value=0.0, max=15000.0), HTML(value='')))"
      ]
     },
     "metadata": {},
     "output_type": "display_data"
    },
    {
     "name": "stdout",
     "output_type": "stream",
     "text": [
      "\n",
      "96399.47960829362\n",
      "13\n"
     ]
    },
    {
     "data": {
      "application/vnd.jupyter.widget-view+json": {
       "model_id": "ab0c14f0705244b1a04ab39feb7ed6dd",
       "version_major": 2,
       "version_minor": 0
      },
      "text/plain": [
       "HBox(children=(FloatProgress(value=0.0, max=15000.0), HTML(value='')))"
      ]
     },
     "metadata": {},
     "output_type": "display_data"
    },
    {
     "name": "stdout",
     "output_type": "stream",
     "text": [
      "\n",
      "92871.92333949357\n",
      "14\n"
     ]
    },
    {
     "data": {
      "application/vnd.jupyter.widget-view+json": {
       "model_id": "de60ecffaa9741f5ab977e5a624dd6b0",
       "version_major": 2,
       "version_minor": 0
      },
      "text/plain": [
       "HBox(children=(FloatProgress(value=0.0, max=15000.0), HTML(value='')))"
      ]
     },
     "metadata": {},
     "output_type": "display_data"
    },
    {
     "name": "stdout",
     "output_type": "stream",
     "text": [
      "\n",
      "89307.17694667354\n",
      "15\n"
     ]
    },
    {
     "data": {
      "application/vnd.jupyter.widget-view+json": {
       "model_id": "302779dcc1184c91ad9e2e01b29630f2",
       "version_major": 2,
       "version_minor": 0
      },
      "text/plain": [
       "HBox(children=(FloatProgress(value=0.0, max=15000.0), HTML(value='')))"
      ]
     },
     "metadata": {},
     "output_type": "display_data"
    },
    {
     "name": "stdout",
     "output_type": "stream",
     "text": [
      "\n",
      "85684.41236750595\n",
      "16\n"
     ]
    },
    {
     "data": {
      "application/vnd.jupyter.widget-view+json": {
       "model_id": "5aaa809e494c4971bc2fbbe9caeb8d0d",
       "version_major": 2,
       "version_minor": 0
      },
      "text/plain": [
       "HBox(children=(FloatProgress(value=0.0, max=15000.0), HTML(value='')))"
      ]
     },
     "metadata": {},
     "output_type": "display_data"
    },
    {
     "name": "stdout",
     "output_type": "stream",
     "text": [
      "\n",
      "81993.12335158512\n",
      "17\n"
     ]
    },
    {
     "data": {
      "application/vnd.jupyter.widget-view+json": {
       "model_id": "a51ad1cddaa9469682c6993f9036c89a",
       "version_major": 2,
       "version_minor": 0
      },
      "text/plain": [
       "HBox(children=(FloatProgress(value=0.0, max=15000.0), HTML(value='')))"
      ]
     },
     "metadata": {},
     "output_type": "display_data"
    },
    {
     "name": "stdout",
     "output_type": "stream",
     "text": [
      "\n",
      "78227.72294033505\n",
      "18\n"
     ]
    },
    {
     "data": {
      "application/vnd.jupyter.widget-view+json": {
       "model_id": "c6487732bcff4a1997aa89b49c5c7d12",
       "version_major": 2,
       "version_minor": 0
      },
      "text/plain": [
       "HBox(children=(FloatProgress(value=0.0, max=15000.0), HTML(value='')))"
      ]
     },
     "metadata": {},
     "output_type": "display_data"
    },
    {
     "name": "stdout",
     "output_type": "stream",
     "text": [
      "\n",
      "74384.59824263398\n",
      "19\n"
     ]
    },
    {
     "data": {
      "application/vnd.jupyter.widget-view+json": {
       "model_id": "2c6381e8d71c47389b98978bbdf7d62b",
       "version_major": 2,
       "version_minor": 0
      },
      "text/plain": [
       "HBox(children=(FloatProgress(value=0.0, max=15000.0), HTML(value='')))"
      ]
     },
     "metadata": {},
     "output_type": "display_data"
    },
    {
     "name": "stdout",
     "output_type": "stream",
     "text": [
      "\n",
      "70470.63510632794\n",
      "20\n"
     ]
    },
    {
     "data": {
      "application/vnd.jupyter.widget-view+json": {
       "model_id": "52695c3302394b0899f28d76ee4cc129",
       "version_major": 2,
       "version_minor": 0
      },
      "text/plain": [
       "HBox(children=(FloatProgress(value=0.0, max=15000.0), HTML(value='')))"
      ]
     },
     "metadata": {},
     "output_type": "display_data"
    },
    {
     "name": "stdout",
     "output_type": "stream",
     "text": [
      "\n",
      "66492.57356963865\n",
      "21\n"
     ]
    },
    {
     "data": {
      "application/vnd.jupyter.widget-view+json": {
       "model_id": "e62b860776d74d9aa8c1fb05cf8c17a1",
       "version_major": 2,
       "version_minor": 0
      },
      "text/plain": [
       "HBox(children=(FloatProgress(value=0.0, max=15000.0), HTML(value='')))"
      ]
     },
     "metadata": {},
     "output_type": "display_data"
    },
    {
     "name": "stdout",
     "output_type": "stream",
     "text": [
      "\n",
      "62467.90720539261\n",
      "22\n"
     ]
    },
    {
     "data": {
      "application/vnd.jupyter.widget-view+json": {
       "model_id": "aeb9bd53d59f4771bd1677794958dcd1",
       "version_major": 2,
       "version_minor": 0
      },
      "text/plain": [
       "HBox(children=(FloatProgress(value=0.0, max=15000.0), HTML(value='')))"
      ]
     },
     "metadata": {},
     "output_type": "display_data"
    },
    {
     "name": "stdout",
     "output_type": "stream",
     "text": [
      "\n",
      "58422.79387125699\n",
      "23\n"
     ]
    },
    {
     "data": {
      "application/vnd.jupyter.widget-view+json": {
       "model_id": "2835a79e7ada41c6b01712846055afda",
       "version_major": 2,
       "version_minor": 0
      },
      "text/plain": [
       "HBox(children=(FloatProgress(value=0.0, max=15000.0), HTML(value='')))"
      ]
     },
     "metadata": {},
     "output_type": "display_data"
    },
    {
     "name": "stdout",
     "output_type": "stream",
     "text": [
      "\n",
      "54387.994684634265\n",
      "24\n"
     ]
    },
    {
     "data": {
      "application/vnd.jupyter.widget-view+json": {
       "model_id": "396652374157400490fc114f23b5cc99",
       "version_major": 2,
       "version_minor": 0
      },
      "text/plain": [
       "HBox(children=(FloatProgress(value=0.0, max=15000.0), HTML(value='')))"
      ]
     },
     "metadata": {},
     "output_type": "display_data"
    },
    {
     "name": "stdout",
     "output_type": "stream",
     "text": [
      "\n",
      "50406.152615615865\n",
      "\n"
     ]
    }
   ],
   "source": [
    "EMBED_DIM = 50\n",
    "print(\"Context size: \", CONTEXT_SIZE)\n",
    "losses = []\n",
    "loss_function = nn.NLLLoss()\n",
    "model = CBOW(vocab_ta_size, EMBED_DIM, CONTEXT_SIZE)\n",
    "#model = NGramLanguageModeler(len(vocab_ta), EMBED_DIM, CONTEXT_SIZE)\n",
    "optimizer = optim.SGD(model.parameters(), lr=0.001)\n",
    "\n",
    "# Freeze embedding layer\n",
    "#model.freeze_layer('embeddings')\n",
    "\n",
    "for epoch in tqdm(range(25)):\n",
    "    print(epoch)\n",
    "    total_loss = 0\n",
    "    #------- Embedding layers are trained as well here ----#\n",
    "    #lookup_tensor = torch.tensor([word_to_ix[\"poor\"]], dtype=torch.long)\n",
    "    #hello_embed = model.embeddings(lookup_tensor)\n",
    "    #print(hello_embed)\n",
    "    # -----------------------------------------------------#\n",
    "    i = 0\n",
    "    for context, target in tqdm(subset_tripad[:15000]):\n",
    "        #print(\"Progress: {0}/{1}\".format(i, len(cont_targ_train)))\n",
    "        #i += 1\n",
    "        # Step 1. Prepare the inputs to be passed to the model (i.e, turn the words\n",
    "        # into integer indices and wrap them in tensors)\n",
    "        context_idxs = torch.tensor([word_to_ix[w] for w in context], dtype=torch.long)\n",
    "        #print(\"Context id: \", context_idxs)\n",
    "        #print(\"Context id shape: \", context_idxs.shape)\n",
    "\n",
    "        # Step 2. Recall that torch *accumulates* gradients. Before passing in a\n",
    "        # new instance, you need to zero out the gradients from the old instance\n",
    "        model.zero_grad()\n",
    "\n",
    "        # Step 3. Run the forward pass, getting log probabilities over next\n",
    "        # words\n",
    "        #print(model)\n",
    "        log_probs = model(context_idxs)\n",
    "        #print(log_probs)\n",
    "\n",
    "        # Step 4. Compute your loss function. (Again, Torch wants the target\n",
    "        # word wrapped in a tensor)\n",
    "        loss = loss_function(log_probs, torch.tensor([word_to_ix[target]], dtype=torch.long))\n",
    "        #print(loss)\n",
    "\n",
    "        # Step 5. Do the backward pass and update the gradient\n",
    "        loss.backward()\n",
    "        optimizer.step()\n",
    "\n",
    "        # Get the Python number from a 1-element Tensor by calling tensor.item()\n",
    "        total_loss += loss.item()\n",
    "    print(total_loss)\n",
    "    losses.append(total_loss)\n",
    "#print(losses)  # The loss decreased every iteration over the training data!"
   ]
  },
  {
   "cell_type": "code",
   "execution_count": 87,
   "metadata": {},
   "outputs": [
    {
     "name": "stdout",
     "output_type": "stream",
     "text": [
      "[('trip', 9824, tensor(-1.3977, grad_fn=<SelectBackward>))]\n",
      "[('time', 47132, tensor(-2.6470, grad_fn=<SelectBackward>))]\n",
      "[('internet', 24818, tensor(-2.9353, grad_fn=<SelectBackward>))]\n",
      "[('room', 31229, tensor(-3.4388, grad_fn=<SelectBackward>))]\n",
      "[('great', 23849, tensor(-3.7573, grad_fn=<SelectBackward>))]\n"
     ]
    }
   ],
   "source": [
    "model.predict([\"inside\", \"every\", \"human\", \"rainbow\"])"
   ]
  },
  {
   "cell_type": "code",
   "execution_count": 91,
   "metadata": {},
   "outputs": [
    {
     "name": "stdout",
     "output_type": "stream",
     "text": [
      "[('stayed', 42374, tensor(-1.9653, grad_fn=<SelectBackward>))]\n",
      "[('great', 23849, tensor(-2.0993, grad_fn=<SelectBackward>))]\n",
      "[('lucky', 44009, tensor(-2.5581, grad_fn=<SelectBackward>))]\n",
      "[('princess', 27066, tensor(-2.7144, grad_fn=<SelectBackward>))]\n",
      "[('nice', 3830, tensor(-2.7529, grad_fn=<SelectBackward>))]\n"
     ]
    }
   ],
   "source": [
    "model.predict([\"hotel\", \"hotel\", \"hotel\", \"hotel\"])"
   ]
  },
  {
   "cell_type": "code",
   "execution_count": 94,
   "metadata": {},
   "outputs": [
    {
     "name": "stdout",
     "output_type": "stream",
     "text": [
      "[('clean', 11698, tensor(-3.2500, grad_fn=<SelectBackward>))]\n",
      "[('guest', 24609, tensor(-3.5236, grad_fn=<SelectBackward>))]\n",
      "[('used', 42241, tensor(-3.6694, grad_fn=<SelectBackward>))]\n",
      "[('lot', 25953, tensor(-3.8844, grad_fn=<SelectBackward>))]\n",
      "[('breakfast', 46732, tensor(-3.8947, grad_fn=<SelectBackward>))]\n"
     ]
    }
   ],
   "source": [
    "model.predict([\"mountain\", \"mountain\", \"mountain\", \"mountain\"])"
   ]
  },
  {
   "cell_type": "code",
   "execution_count": 112,
   "metadata": {},
   "outputs": [],
   "source": [
    "import torch.nn as nn \n",
    "def get_closest_word(word, model, word_to_ix, topn=5):\n",
    "    word_distance = []\n",
    "    emb = model.embeddings\n",
    "    pdist = nn.PairwiseDistance()\n",
    "    i = word_to_ix[word]\n",
    "    lookup_tensor_i = torch.tensor([i], dtype=torch.long)\n",
    "    v_i = emb(lookup_tensor_i)\n",
    "    for j in range(len(vocab_ta)):\n",
    "        if j != i:\n",
    "            lookup_tensor_j = torch.tensor([j], dtype=torch.long)\n",
    "            v_j = emb(lookup_tensor_j)\n",
    "            word_distance.append((cont_targ_train[j], float(pdist(v_i, v_j))))\n",
    "    word_distance.sort(key=lambda x: x[1])\n",
    "    return word_distance[:topn]"
   ]
  },
  {
   "cell_type": "markdown",
   "metadata": {},
   "source": [
    "### Nouns prediction\n",
    "Take 3!"
   ]
  },
  {
   "cell_type": "code",
   "execution_count": 114,
   "metadata": {},
   "outputs": [
    {
     "data": {
      "text/plain": [
       "[((['food', 'water', 'period', 'adjustment'], 'require'), 7.464013576507568),\n",
       " ((['ear', 'languages', 'russian', 'french'], 'polish'), 7.524900913238525),\n",
       " ((['large', 'european', 'staff', 'friendly'], 'standards'),\n",
       "  7.601354598999023),\n",
       " ((['friendly', 'helpful', 'unbelievably', 'clean'], 'staff'),\n",
       "  7.705061435699463),\n",
       " ((['heavy', 'bags', 'changes', 'stairs'], 'station'), 7.822216987609863)]"
      ]
     },
     "execution_count": 114,
     "metadata": {},
     "output_type": "execute_result"
    }
   ],
   "source": [
    "get_closest_word(\"hotel\", model, word_to_ix)"
   ]
  },
  {
   "cell_type": "code",
   "execution_count": 113,
   "metadata": {},
   "outputs": [
    {
     "data": {
      "text/plain": [
       "[((['contact', 'entire', 'experience', 'absolutely'], 'stay'),\n",
       "  6.400898456573486),\n",
       " ((['variety', 'abundance', 'style', 'extended'], 'served'),\n",
       "  6.630602836608887),\n",
       " ((['cities', 'stayed', 'nights', 'spent'], 'hotels'), 6.649796009063721),\n",
       " ((['room', 'similar', 'rooms', 'hotels'], 'club'), 6.692722320556641),\n",
       " ((['return', 'wee', 'morning', 'welcome'], 'hours'), 6.809024810791016)]"
      ]
     },
     "execution_count": 113,
     "metadata": {},
     "output_type": "execute_result"
    }
   ],
   "source": [
    "get_closest_word(\"mountain\", model, word_to_ix)"
   ]
  },
  {
   "cell_type": "code",
   "execution_count": 116,
   "metadata": {},
   "outputs": [
    {
     "data": {
      "text/plain": [
       "[((['musty', 'smell', 'expect', 'degrees'], 'room'), 6.842191219329834),\n",
       " ((['desktop', 'computers', 'use', 'printer'], 'free'), 7.01853609085083),\n",
       " ((['maids', 'cleaned', 'everyday', 'resort'], 'room'), 7.104230880737305),\n",
       " ((['lots', 'fresh', 'cheeses', 'fruit'], 'meats'), 7.216484069824219),\n",
       " ((['originally', 'street', 'room', 'got'], 'view'), 7.262269496917725)]"
      ]
     },
     "execution_count": 116,
     "metadata": {},
     "output_type": "execute_result"
    }
   ],
   "source": [
    "get_closest_word(\"hole\", model, word_to_ix)"
   ]
  },
  {
   "cell_type": "markdown",
   "metadata": {},
   "source": [
    "### Verbs Prediction\n",
    "Take 3!"
   ]
  },
  {
   "cell_type": "code",
   "execution_count": 117,
   "metadata": {},
   "outputs": [
    {
     "data": {
      "text/plain": [
       "[((['water', 'basin', 'water', 'floor'], 'ended'), 6.771871089935303),\n",
       " ((['space', 'small', 'enquired', 'difference'], 'notebook'),\n",
       "  6.798417568206787),\n",
       " ((['wine', 'ordered', 'home', 'walked'], 'happened'), 6.80386209487915),\n",
       " ((['life', 'tired', 'day', 'matter'], 'sun'), 6.814009189605713),\n",
       " ((['hotel', 'slowest', 'seen', 'convenience'], 'elevator'),\n",
       "  6.876033306121826)]"
      ]
     },
     "execution_count": 117,
     "metadata": {},
     "output_type": "execute_result"
    }
   ],
   "source": [
    "get_closest_word(\"smells\", model, word_to_ix)"
   ]
  },
  {
   "cell_type": "code",
   "execution_count": 118,
   "metadata": {},
   "outputs": [
    {
     "data": {
      "text/plain": [
       "[((['hotel', 'stayed', 'star', 'hotel'], 'true'), 6.877555847167969),\n",
       " ((['service', 'excellent', 'flowing', 'beach'], 'drinks'), 6.891520023345947),\n",
       " ((['services', 'schiphol', 'stressful', 'situation'], 'airport'),\n",
       "  6.927176475524902),\n",
       " ((['library', 'blown', 'room', 'quite'], 'away'), 7.026782512664795),\n",
       " ((['room', 'faced', 'street', 'quite'], 'busy'), 7.159221172332764)]"
      ]
     },
     "execution_count": 118,
     "metadata": {},
     "output_type": "execute_result"
    }
   ],
   "source": [
    "get_closest_word(\"looks\", model, word_to_ix)"
   ]
  },
  {
   "cell_type": "code",
   "execution_count": 119,
   "metadata": {},
   "outputs": [
    {
     "data": {
      "text/plain": [
       "[((['blocks', 'union', 'blocks', 'entrance'], 'square'), 6.202661514282227),\n",
       " ((['tell', 'fare', 'cab', 'turn'], 'line'), 6.259843349456787),\n",
       " ((['beers', 'diet', 'waters', 'orange'], 'pepsi'), 6.293399333953857),\n",
       " ((['true', 'star', 'business', 'pleasure'], 'traveled'), 6.317442893981934),\n",
       " ((['like', 'sweet', 'fuel', 'wham'], 'rocket'), 6.356673240661621)]"
      ]
     },
     "execution_count": 119,
     "metadata": {},
     "output_type": "execute_result"
    }
   ],
   "source": [
    "get_closest_word(\"seems\", model, word_to_ix)"
   ]
  },
  {
   "cell_type": "markdown",
   "metadata": {},
   "source": [
    "### Adjective Prediction\n",
    "Take 3!"
   ]
  },
  {
   "cell_type": "code",
   "execution_count": 120,
   "metadata": {},
   "outputs": [
    {
     "data": {
      "text/plain": [
       "[((['clean', 'beautiful', 'sand', 'clear'], 'white'), 6.703503608703613),\n",
       " ((['hotel', 'booked', 'website', 'reading'], 'hotel'), 6.7521748542785645),\n",
       " ((['checking', 'suite', 'con', 'sitting'], 'air'), 6.807043075561523),\n",
       " ((['cut', 'real', 'steak', 'bit'], 'moo'), 6.845069885253906),\n",
       " ((['quick', 'use', 'notice', 'mins'], 'really'), 6.846304893493652)]"
      ]
     },
     "execution_count": 120,
     "metadata": {},
     "output_type": "execute_result"
    }
   ],
   "source": [
    "get_closest_word(\"stunning\", model, word_to_ix)"
   ]
  },
  {
   "cell_type": "code",
   "execution_count": 121,
   "metadata": {},
   "outputs": [
    {
     "data": {
      "text/plain": [
       "[((['suggest', 'make', 'reservations', 'walk'], 'restaurant'),\n",
       "  6.515467166900635),\n",
       " ((['context', 'waikiki', 'love', 'hate'], 'world'), 6.764486312866211),\n",
       " ((['ramon', 'helpful', 'want', 'inform'], 'things'), 6.989969253540039),\n",
       " ((['express', 'station', 'considered', 'large'], 'room'), 6.998302459716797),\n",
       " ((['reviews', 'nothing', 'resort', 'trust'], 'compared'), 7.3102006912231445)]"
      ]
     },
     "execution_count": 121,
     "metadata": {},
     "output_type": "execute_result"
    }
   ],
   "source": [
    "get_closest_word(\"magical\", model, word_to_ix)"
   ]
  },
  {
   "cell_type": "code",
   "execution_count": 122,
   "metadata": {},
   "outputs": [
    {
     "data": {
      "text/plain": [
       "[((['afternoon', 'king', 'roommate', 'stated'], 'bed'), 6.676366329193115),\n",
       " ((['local', 'sports', 'return', 'garage'], 'pub'), 6.901329040527344),\n",
       " ((['desk', 'converted', 'dollars', 'charged'], 'pesos'), 7.032538890838623),\n",
       " ((['hear', 'clubs', 'going', 'night'], 'bars'), 7.066065788269043),\n",
       " ((['etoile', 'days', 'april', 'ca'], 'early'), 7.07668399810791)]"
      ]
     },
     "execution_count": 122,
     "metadata": {},
     "output_type": "execute_result"
    }
   ],
   "source": [
    "get_closest_word(\"wonderful\", model, word_to_ix)"
   ]
  },
  {
   "cell_type": "code",
   "execution_count": 99,
   "metadata": {},
   "outputs": [],
   "source": [
    "torch.save(model, \"model_cbow2\")"
   ]
  },
  {
   "cell_type": "code",
   "execution_count": 100,
   "metadata": {},
   "outputs": [],
   "source": [
    "a = torch.load(\"model_cbow2\")"
   ]
  },
  {
   "cell_type": "code",
   "execution_count": 101,
   "metadata": {},
   "outputs": [
    {
     "name": "stdout",
     "output_type": "stream",
     "text": [
      "[('clean', 11698, tensor(-3.2500, grad_fn=<SelectBackward>))]\n",
      "[('guest', 24609, tensor(-3.5236, grad_fn=<SelectBackward>))]\n",
      "[('used', 42241, tensor(-3.6694, grad_fn=<SelectBackward>))]\n",
      "[('lot', 25953, tensor(-3.8844, grad_fn=<SelectBackward>))]\n",
      "[('breakfast', 46732, tensor(-3.8947, grad_fn=<SelectBackward>))]\n"
     ]
    }
   ],
   "source": [
    "a.predict([\"mountain\", \"mountain\", \"mountain\", \"mountain\"])"
   ]
  },
  {
   "cell_type": "code",
   "execution_count": 141,
   "metadata": {},
   "outputs": [],
   "source": [
    "from collections import Counter\n",
    "most_common_ta = Counter(corpus_ta.split()).most_common()"
   ]
  },
  {
   "cell_type": "code",
   "execution_count": 142,
   "metadata": {},
   "outputs": [],
   "source": [
    "most_common_scifi = Counter(corpus_scifi.split()).most_common()"
   ]
  },
  {
   "cell_type": "code",
   "execution_count": 156,
   "metadata": {},
   "outputs": [],
   "source": [
    "intersection = list(set([i[0] for i in most_common_ta]).intersection(set([i[0] for i in most_common_scifi])))"
   ]
  },
  {
   "cell_type": "code",
   "execution_count": 159,
   "metadata": {},
   "outputs": [],
   "source": [
    "most_common_scifi_dict = {key:value for (key,value) in most_common_scifi}\n",
    "most_common_ta_dict = {key:value for (key,value) in most_common_ta}"
   ]
  },
  {
   "cell_type": "code",
   "execution_count": 161,
   "metadata": {},
   "outputs": [],
   "source": [
    "dict_freqs_corpora = {word:(most_common_ta_dict[word], most_common_scifi_dict[word]) for word in intersection}"
   ]
  },
  {
   "cell_type": "code",
   "execution_count": 166,
   "metadata": {},
   "outputs": [
    {
     "data": {
      "text/plain": [
       "{'said': (2522, 76385),\n",
       " 'one': (441, 57263),\n",
       " 'hotel': (48750, 828),\n",
       " 'would': (234, 46663),\n",
       " 'room': (35225, 10873),\n",
       " 'like': (8223, 36472),\n",
       " 'time': (9873, 32907),\n",
       " 'could': (50, 41425),\n",
       " 'good': (17344, 16032),\n",
       " 'back': (140, 32185),\n",
       " 'know': (2522, 28632),\n",
       " 'man': (471, 30097),\n",
       " 'great': (21367, 8524),\n",
       " 'way': (4146, 21081),\n",
       " 'get': (50, 24516),\n",
       " 'got': (6194, 17908),\n",
       " 'right': (4259, 19564),\n",
       " 'little': (6251, 17267),\n",
       " 'two': (121, 21847),\n",
       " 'see': (53, 21211),\n",
       " 'us': (315, 20526),\n",
       " 'even': (44, 20510),\n",
       " 'people': (6804, 13469),\n",
       " 'think': (2940, 17003),\n",
       " 'well': (657, 18729),\n",
       " 'first': (149, 19159),\n",
       " 'long': (2709, 16490),\n",
       " 'day': (9908, 9274),\n",
       " 'away': (4054, 14997),\n",
       " 'new': (3552, 15366),\n",
       " 'went': (4675, 14163),\n",
       " 'looked': (1433, 16793),\n",
       " 'make': (4079, 14091),\n",
       " 'thought': (1878, 16178),\n",
       " 'going': (3206, 14836),\n",
       " 'came': (1895, 16068),\n",
       " 'go': (129, 17487),\n",
       " 'staff': (16538, 926),\n",
       " 'stay': (13945, 3254),\n",
       " 'want': (4187, 12931),\n",
       " 'come': (1964, 15017),\n",
       " 'still': (16, 16702),\n",
       " 'around': (89, 16527),\n",
       " 'old': (2785, 13793),\n",
       " 'night': (10062, 6400),\n",
       " 'place': (7577, 8776),\n",
       " 'something': (30, 16167),\n",
       " 'made': (65, 15639),\n",
       " 'eyes': (115, 14963),\n",
       " 'small': (6585, 8451),\n",
       " 'much': (64, 14956),\n",
       " 'never': (27, 14860),\n",
       " 'really': (7773, 7111),\n",
       " 'say': (3550, 11104),\n",
       " 'nice': (12582, 1868),\n",
       " 'thing': (2329, 12059),\n",
       " 'let': (1309, 12955),\n",
       " 'nothing': (2299, 11813),\n",
       " 'asked': (2385, 11319),\n",
       " 'might': (1, 13536),\n",
       " 'look': (1572, 11934),\n",
       " 'door': (2699, 10798),\n",
       " 'took': (2952, 10534),\n",
       " 'take': (61, 13325),\n",
       " 'years': (1146, 12119),\n",
       " 'face': (361, 12835),\n",
       " 'head': (647, 12482),\n",
       " 'must': (32, 13074),\n",
       " 'rooms': (12374, 599),\n",
       " 'ship': (138, 12763),\n",
       " 'left': (2575, 10307),\n",
       " 'earth': (69, 12773),\n",
       " 'men': (291, 12428),\n",
       " 'food': (9384, 3164),\n",
       " 'another': (68, 12344),\n",
       " 'told': (2686, 9716),\n",
       " 'turned': (648, 11633),\n",
       " 'better': (4047, 8074),\n",
       " 'hand': (609, 11497),\n",
       " 'things': (2349, 9756),\n",
       " 'course': (995, 10965),\n",
       " 'world': (1087, 10856),\n",
       " 'service': (10266, 1658),\n",
       " 'enough': (47, 11875),\n",
       " 'knew': (640, 11035),\n",
       " 'life': (610, 11045),\n",
       " 'mind': (908, 10721),\n",
       " 'location': (11177, 439),\n",
       " 'three': (56, 11527),\n",
       " 'stayed': (10463, 1030),\n",
       " 'sure': (2668, 8815),\n",
       " 'work': (1951, 9437),\n",
       " 'water': (5028, 6257),\n",
       " 'tell': (900, 10213),\n",
       " 'saw': (1153, 9864),\n",
       " 'far': (2160, 8724),\n",
       " 'clean': (9572, 1225),\n",
       " 'best': (5708, 4995),\n",
       " 'beach': (10012, 634),\n",
       " 'space': (1200, 9294),\n",
       " 'voice': (31, 10457),\n",
       " 'big': (3052, 7410),\n",
       " 'breakfast': (9674, 752),\n",
       " 'found': (20, 10305),\n",
       " 'last': (32, 10159),\n",
       " 'yes': (1203, 8894),\n",
       " 'without': (14, 10074),\n",
       " 'felt': (1878, 8053),\n",
       " 'put': (8, 9736),\n",
       " 'city': (3987, 5668),\n",
       " 'light': (1026, 8463),\n",
       " 'find': (30, 9398),\n",
       " 'quite': (3552, 5817),\n",
       " 'anything': (38, 9265),\n",
       " 'almost': (5, 9276),\n",
       " 'use': (2777, 6479),\n",
       " 'floor': (4679, 4457),\n",
       " 'air': (2050, 7078),\n",
       " 'every': (33, 9045),\n",
       " 'looking': (2343, 6734),\n",
       " 'though': (121, 8904),\n",
       " 'days': (3459, 5429),\n",
       " 'many': (26, 8829),\n",
       " 'need': (2883, 5960),\n",
       " 'moment': (436, 8373),\n",
       " 'may': (32, 8744),\n",
       " 'ever': (27, 8715),\n",
       " 'open': (2165, 6280),\n",
       " 'feet': (390, 7975),\n",
       " 'called': (1722, 6621),\n",
       " 'area': (6029, 2278),\n",
       " 'half': (1033, 7233),\n",
       " 'home': (2151, 6094),\n",
       " 'minutes': (3707, 4509),\n",
       " 'walk': (6237, 1967),\n",
       " 'began': (125, 8057),\n",
       " 'pool': (7564, 614),\n",
       " 'resort': (8001, 137),\n",
       " 'end': (1891, 6177),\n",
       " 'planet': (36, 8003),\n",
       " 'maybe': (878, 7151),\n",
       " 'free': (4166, 3850),\n",
       " 'behind': (5, 7961),\n",
       " 'human': (31, 7891),\n",
       " 'wanted': (2114, 5683),\n",
       " 'close': (3180, 4526),\n",
       " 'friendly': (6841, 817),\n",
       " 'set': (917, 6670),\n",
       " 'bed': (4990, 2596),\n",
       " 'large': (3757, 3805),\n",
       " 'mr': (103, 7456),\n",
       " 'hard': (1842, 5715),\n",
       " 'desk': (4464, 3073),\n",
       " 'used': (1849, 5681),\n",
       " 'hands': (173, 7340),\n",
       " 'high': (1858, 5634),\n",
       " 'heard': (804, 6673),\n",
       " 'tried': (1249, 6146),\n",
       " 'second': (1524, 5869),\n",
       " 'side': (101, 7269),\n",
       " 'feel': (2276, 5038),\n",
       " 'help': (1621, 5652),\n",
       " 'seen': (927, 6290),\n",
       " 'across': (11, 7195),\n",
       " 'body': (175, 7017),\n",
       " 'try': (2342, 4771),\n",
       " 'lot': (2890, 4193),\n",
       " 'along': (6, 7076),\n",
       " 'yet': (15, 7053),\n",
       " 'matter': (529, 6530),\n",
       " 'stood': (106, 6933),\n",
       " 'since': (25, 7000),\n",
       " 'street': (3715, 3307),\n",
       " 'oh': (506, 6508),\n",
       " 'science': (27, 6986),\n",
       " 'next': (52, 6882),\n",
       " 'always': (6, 6895),\n",
       " 'times': (2830, 4061),\n",
       " 'excellent': (6139, 732),\n",
       " 'year': (1984, 4883),\n",
       " 'bar': (5560, 1288),\n",
       " 'kind': (989, 5849),\n",
       " 'outside': (2241, 4584),\n",
       " 'bit': (3871, 2933),\n",
       " 'mean': (327, 6470),\n",
       " 'give': (6, 6785),\n",
       " 'morning': (3224, 3564),\n",
       " 'point': (875, 5757),\n",
       " 'trip': (4903, 1726),\n",
       " 'beautiful': (4707, 1903),\n",
       " 'later': (1141, 5446),\n",
       " 'gave': (1464, 5111),\n",
       " 'four': (62, 6480),\n",
       " 'name': (28, 6436),\n",
       " 'girl': (227, 6222),\n",
       " 'view': (4708, 1728),\n",
       " 'keep': (8, 6424),\n",
       " 'bad': (2900, 3532),\n",
       " 'check': (4304, 2114),\n",
       " 'five': (79, 6332),\n",
       " 'book': (1583, 4738),\n",
       " 'done': (46, 6257),\n",
       " 'perhaps': (9, 6289),\n",
       " 'hours': (1872, 4406),\n",
       " 'read': (1642, 4634),\n",
       " 'probably': (1547, 4722),\n",
       " 'able': (1671, 4523),\n",
       " 'getting': (1873, 4281),\n",
       " 'problem': (2988, 3162),\n",
       " 'fact': (1142, 4964),\n",
       " 'gone': (340, 5739),\n",
       " 'started': (523, 5553),\n",
       " 'sat': (288, 5780),\n",
       " 'short': (1722, 4320),\n",
       " 'inside': (658, 5377),\n",
       " 'trying': (859, 5144),\n",
       " 'pretty': (2532, 3429),\n",
       " 'also': (210, 5742),\n",
       " 'understand': (656, 5264),\n",
       " 'fiction': (6, 5885),\n",
       " 'young': (647, 5229),\n",
       " 'different': (2065, 3802),\n",
       " 'else': (49, 5814),\n",
       " 'white': (772, 5066),\n",
       " 'hundred': (2, 5826),\n",
       " 'money': (2576, 3247),\n",
       " 'near': (2004, 3800),\n",
       " 'helpful': (5633, 158),\n",
       " 'sun': (920, 4855),\n",
       " 'past': (648, 5055),\n",
       " 'moved': (639, 4989),\n",
       " 'real': (1148, 4461),\n",
       " 'others': (38, 5557),\n",
       " 'house': (1000, 4593),\n",
       " 'restaurant': (5322, 264),\n",
       " 'hour': (1947, 3603),\n",
       " 'red': (484, 5047),\n",
       " 'sir': (30, 5499),\n",
       " 'coming': (727, 4790),\n",
       " 'black': (284, 5199),\n",
       " 'leave': (1446, 4028),\n",
       " 'machine': (385, 5072),\n",
       " 'rest': (952, 4484),\n",
       " 'walked': (1094, 4324),\n",
       " 'bathroom': (5098, 299),\n",
       " 'power': (260, 5133),\n",
       " 'car': (1774, 3590),\n",
       " 'price': (3718, 1636),\n",
       " 'wait': (1667, 3684),\n",
       " 'comfortable': (4530, 791),\n",
       " 'control': (222, 5069),\n",
       " 'least': (9, 5240),\n",
       " 'dead': (144, 5090),\n",
       " 'sound': (405, 4825),\n",
       " 'soon': (558, 4653),\n",
       " 'stopped': (286, 4916),\n",
       " 'wonderful': (4068, 1127),\n",
       " 'part': (17, 5159),\n",
       " 'whole': (9, 5166),\n",
       " 'suddenly': (41, 5131),\n",
       " 'restaurants': (5115, 56),\n",
       " 'star': (2733, 2437),\n",
       " 'dark': (601, 4526),\n",
       " 'wall': (750, 4364),\n",
       " 'everything': (89, 5021),\n",
       " 'kept': (1325, 3755),\n",
       " 'stop': (1259, 3817),\n",
       " 'believe': (826, 4249),\n",
       " 'full': (64, 4994),\n",
       " 'brought': (846, 4198),\n",
       " 'ask': (1821, 3220),\n",
       " 'call': (13, 5021),\n",
       " 'already': (7, 5018),\n",
       " 'business': (1733, 3265),\n",
       " 'happened': (360, 4637),\n",
       " 'talk': (299, 4686),\n",
       " 'line': (1188, 3777),\n",
       " 'remember': (733, 4224),\n",
       " 'minute': (2081, 2860),\n",
       " 'hear': (987, 3919),\n",
       " 'run': (946, 3953),\n",
       " 'wrong': (712, 4161),\n",
       " 'story': (210, 4646),\n",
       " 'slowly': (43, 4813),\n",
       " 'idea': (430, 4398),\n",
       " 'easy': (2164, 2664),\n",
       " 'week': (2881, 1945),\n",
       " 'job': (573, 4253),\n",
       " 'held': (158, 4654),\n",
       " 'finally': (867, 3930),\n",
       " 'reached': (91, 4702),\n",
       " 'station': (2618, 2151),\n",
       " 'nights': (4398, 365),\n",
       " 'cold': (1338, 3411),\n",
       " 'quiet': (2877, 1862),\n",
       " 'building': (1752, 2986),\n",
       " 'recommend': (4564, 160),\n",
       " 'opened': (512, 4204),\n",
       " 'fine': (1978, 2732),\n",
       " 'turn': (696, 3978),\n",
       " 'ago': (435, 4219),\n",
       " 'captain': (46, 4607),\n",
       " 'ready': (1219, 3430),\n",
       " 'woman': (305, 4341),\n",
       " 'possible': (512, 4112),\n",
       " 'answer': (230, 4372),\n",
       " 'given': (1504, 3087),\n",
       " 'table': (1020, 3528),\n",
       " 'hot': (2327, 2213),\n",
       " 'words': (161, 4376),\n",
       " 'case': (511, 4024),\n",
       " 'waiting': (845, 3672),\n",
       " 'taken': (813, 3687),\n",
       " 'couple': (2128, 2348),\n",
       " 'ten': (13, 4461),\n",
       " 'wife': (1650, 2817),\n",
       " 'experience': (3196, 1265),\n",
       " 'order': (978, 3482),\n",
       " 'th': (3015, 1421),\n",
       " 'ground': (390, 4028),\n",
       " 'return': (1923, 2487),\n",
       " 'dr': (368, 4039),\n",
       " 'walking': (2902, 1449),\n",
       " 'sort': (367, 3983),\n",
       " 'together': (29, 4320),\n",
       " 'making': (948, 3391),\n",
       " 'word': (347, 3986),\n",
       " 'arm': (63, 4214),\n",
       " 'less': (40, 4235),\n",
       " 'known': (201, 4066),\n",
       " 'office': (304, 3944),\n",
       " 'returned': (1906, 2328),\n",
       " 'lost': (414, 3819),\n",
       " 'perfect': (2908, 1324),\n",
       " 'number': (776, 3438),\n",
       " 'true': (682, 3530),\n",
       " 'nodded': (3, 4204),\n",
       " 'reason': (563, 3643),\n",
       " 'main': (2388, 1808),\n",
       " 'love': (1092, 3103),\n",
       " 'chance': (350, 3831),\n",
       " 'eat': (2485, 1696),\n",
       " 'start': (989, 3190),\n",
       " 'hotels': (4106, 60),\n",
       " 'blue': (619, 3546),\n",
       " 'general': (497, 3652),\n",
       " 'bring': (1440, 2707),\n",
       " 'actually': (1445, 2694),\n",
       " 'arrived': (2867, 1267),\n",
       " 'upon': (62, 4062),\n",
       " 'forward': (383, 3737),\n",
       " 'distance': (1770, 2340),\n",
       " 'live': (600, 3495),\n",
       " 'worth': (2471, 1621),\n",
       " 'either': (45, 4047),\n",
       " 'hope': (593, 3475),\n",
       " 'six': (9, 4049),\n",
       " 'size': (2059, 1998),\n",
       " 'change': (1013, 3040),\n",
       " 'within': (8, 4037),\n",
       " 'pay': (1905, 2130),\n",
       " 'cut': (254, 3777),\n",
       " 'twenty': (7, 4016),\n",
       " 'late': (1606, 2409),\n",
       " 'boy': (195, 3817),\n",
       " 'chair': (534, 3473),\n",
       " 'children': (1181, 2788),\n",
       " 'certainly': (1077, 2883),\n",
       " 'huge': (1985, 1957),\n",
       " 'living': (474, 3454),\n",
       " 'booked': (3886, 28),\n",
       " 'deep': (248, 3666),\n",
       " 'center': (1140, 2771),\n",
       " 'family': (2091, 1810),\n",
       " 'caught': (138, 3760),\n",
       " 'loved': (3234, 661),\n",
       " 'except': (3, 3892),\n",
       " 'reviews': (3764, 128),\n",
       " 'coffee': (2637, 1254),\n",
       " 'needed': (1426, 2461),\n",
       " 'early': (2097, 1786),\n",
       " 'thousand': (23, 3853),\n",
       " 'thinking': (257, 3618),\n",
       " 'clear': (485, 3381),\n",
       " 'guess': (606, 3254),\n",
       " 'trouble': (459, 3396),\n",
       " 'shook': (15, 3834),\n",
       " 'closed': (597, 3251),\n",
       " 'quickly': (680, 3148),\n",
       " 'working': (908, 2911),\n",
       " 'sense': (213, 3606),\n",
       " 'green': (293, 3524),\n",
       " 'stared': (12, 3792),\n",
       " 'top': (146, 3656),\n",
       " 'longer': (420, 3379),\n",
       " 'alone': (23, 3767),\n",
       " 'hair': (350, 3416),\n",
       " 'death': (34, 3725),\n",
       " 'question': (161, 3589),\n",
       " 'suppose': (141, 3607),\n",
       " 'watched': (131, 3616),\n",
       " 'fantastic': (3002, 731),\n",
       " 'sleep': (1216, 2508),\n",
       " 'lobby': (3460, 263),\n",
       " 'care': (946, 2775),\n",
       " 'several': (9, 3712),\n",
       " 'ran': (285, 3434),\n",
       " 'lovely': (3038, 679),\n",
       " 'mouth': (46, 3663),\n",
       " 'ahead': (256, 3445),\n",
       " 'decided': (1030, 2661),\n",
       " 'york': (703, 2984),\n",
       " 'front': (76, 3606),\n",
       " 'lay': (163, 3514),\n",
       " 'miss': (483, 3190),\n",
       " 'system': (24, 3629),\n",
       " 'someone': (7, 3645),\n",
       " 'drink': (1783, 1857),\n",
       " 'smiled': (34, 3603),\n",
       " 'person': (1491, 2142),\n",
       " 'happy': (1609, 2018),\n",
       " 'please': (45, 3575),\n",
       " 'feeling': (411, 3207),\n",
       " 'buffet': (3598, 20),\n",
       " 'group': (996, 2619),\n",
       " 'husband': (2716, 898),\n",
       " 'certain': (248, 3361),\n",
       " 'show': (27, 3562),\n",
       " 'definitely': (3075, 498),\n",
       " 'watch': (693, 2864),\n",
       " 'field': (52, 3495),\n",
       " 'instead': (735, 2811),\n",
       " 'window': (982, 2563),\n",
       " 'fire': (6, 3534),\n",
       " 'move': (4, 3533),\n",
       " 'stories': (79, 3452),\n",
       " 'war': (22, 3503),\n",
       " 'worked': (973, 2548),\n",
       " 'noise': (2213, 1307),\n",
       " 'books': (151, 3368),\n",
       " 'arms': (39, 3457),\n",
       " 'however': (119, 3371),\n",
       " 'fast': (526, 2959),\n",
       " 'miles': (231, 3246),\n",
       " 'hell': (113, 3357),\n",
       " 'expect': (1738, 1722),\n",
       " 'beyond': (4, 3450),\n",
       " 'ones': (634, 2816),\n",
       " 'club': (2100, 1349),\n",
       " 'shower': (3047, 385),\n",
       " 'taking': (745, 2684),\n",
       " 'passed': (150, 3274),\n",
       " 'metal': (55, 3364),\n",
       " 'women': (286, 3129),\n",
       " 'sent': (432, 2972),\n",
       " 'speak': (1163, 2240),\n",
       " 'hold': (215, 3184),\n",
       " 'stars': (518, 2872),\n",
       " 'safe': (1720, 1666),\n",
       " 'followed': (135, 3246),\n",
       " 'evening': (1909, 1466),\n",
       " 'low': (546, 2824),\n",
       " 'picked': (401, 2951),\n",
       " 'spoke': (807, 2519),\n",
       " 'special': (1351, 1969),\n",
       " 'strange': (242, 3075),\n",
       " 'dinner': (2461, 828),\n",
       " 'single': (797, 2478),\n",
       " 'important': (416, 2857),\n",
       " 'die': (164, 3104),\n",
       " 'gun': (7, 3259),\n",
       " 'english': (2222, 1042),\n",
       " 'doctor': (146, 3111),\n",
       " 'especially': (1884, 1366),\n",
       " 'value': (2325, 920),\n",
       " 'kill': (48, 3195),\n",
       " 'send': (242, 3000),\n",
       " 'tiny': (817, 2418),\n",
       " 'eye': (183, 3034),\n",
       " 'sky': (98, 3110),\n",
       " 'exactly': (499, 2698),\n",
       " 'kids': (2139, 1053),\n",
       " 'airport': (3038, 152),\n",
       " 'none': (525, 2664),\n",
       " 'father': (58, 3128),\n",
       " 'simply': (593, 2590),\n",
       " 'completely': (543, 2626),\n",
       " 'screen': (544, 2624),\n",
       " 'future': (240, 2928),\n",
       " 'alien': (2, 3161),\n",
       " 'glass': (772, 2387),\n",
       " 'anyone': (30, 3123),\n",
       " 'fell': (185, 2967),\n",
       " 'spent': (1743, 1409),\n",
       " 'surface': (37, 3105),\n",
       " 'deal': (1462, 1679),\n",
       " 'information': (449, 2689),\n",
       " 'stand': (318, 2806),\n",
       " 'god': (161, 2962),\n",
       " 'travel': (1584, 1536),\n",
       " 'form': (167, 2951),\n",
       " 'available': (2003, 1113),\n",
       " 'waited': (419, 2691),\n",
       " 'plenty': (1834, 1271),\n",
       " 'talking': (301, 2788),\n",
       " 'moving': (155, 2920),\n",
       " 'dropped': (152, 2921),\n",
       " 'running': (432, 2631),\n",
       " 'level': (824, 2238),\n",
       " 'places': (1715, 1345),\n",
       " 'town': (1096, 1947),\n",
       " 'drinks': (2652, 391),\n",
       " 'figure': (213, 2823),\n",
       " 'paid': (1680, 1350),\n",
       " 'pulled': (142, 2886),\n",
       " 'means': (418, 2598),\n",
       " 'square': (1568, 1445),\n",
       " 'moon': (59, 2951),\n",
       " 'friends': (1221, 1780),\n",
       " 'overall': (2832, 154),\n",
       " 'wish': (595, 2387),\n",
       " 'expected': (1131, 1848),\n",
       " 'choice': (1690, 1284),\n",
       " 'watching': (296, 2663),\n",
       " 'smile': (515, 2440),\n",
       " 'fun': (2110, 844),\n",
       " 'beds': (2723, 229),\n",
       " 'realized': (150, 2799),\n",
       " 'heavy': (191, 2756),\n",
       " 'standing': (170, 2777),\n",
       " 'race': (30, 2916),\n",
       " 'simple': (460, 2485),\n",
       " 'appeared': (264, 2671),\n",
       " 'seem': (1, 2933),\n",
       " 'brain': (3, 2930),\n",
       " 'rate': (1693, 1236),\n",
       " 'months': (380, 2539),\n",
       " 'located': (2373, 546),\n",
       " 'sorry': (270, 2625),\n",
       " 'enjoyed': (2449, 443),\n",
       " 'hit': (324, 2565),\n",
       " 'stuff': (630, 2249),\n",
       " 'beside': (2, 2871),\n",
       " 'vacation': (2519, 352),\n",
       " 'whatever': (11, 2851),\n",
       " 'fingers': (39, 2818),\n",
       " 'says': (232, 2622),\n",
       " 'corner': (1108, 1745),\n",
       " 'sight': (264, 2586),\n",
       " 'lots': (2239, 608),\n",
       " 'robot': (2, 2841),\n",
       " 'warm': (1202, 1639),\n",
       " 'wide': (347, 2492),\n",
       " 'afraid': (134, 2697),\n",
       " 'makes': (691, 2139),\n",
       " 'central': (1505, 1313),\n",
       " 'foot': (328, 2488),\n",
       " 'reading': (968, 1840),\n",
       " 'extra': (1858, 946),\n",
       " 'friend': (618, 2184),\n",
       " 'visit': (1934, 860),\n",
       " 'meant': (305, 2488),\n",
       " 'problems': (1518, 1265),\n",
       " 'major': (879, 1897),\n",
       " 'fear': (45, 2729),\n",
       " 'road': (1065, 1691),\n",
       " 'bright': (281, 2472),\n",
       " 'issue': (691, 2060),\n",
       " 'staying': (2339, 409),\n",
       " 'showed': (347, 2400),\n",
       " 'modern': (2062, 683),\n",
       " 'edge': (144, 2597),\n",
       " 'whether': (2, 2739),\n",
       " 'checked': (1408, 1325),\n",
       " 'sea': (512, 2221),\n",
       " 'today': (89, 2641),\n",
       " 'stepped': (89, 2634),\n",
       " 'mars': (7, 2715),\n",
       " 'amazing': (2189, 531),\n",
       " 'met': (885, 1820),\n",
       " 'present': (139, 2563),\n",
       " 'tv': (1970, 732),\n",
       " 'state': (249, 2452),\n",
       " 'attention': (415, 2280),\n",
       " 'complete': (357, 2336),\n",
       " 'quick': (916, 1775),\n",
       " 'heart': (553, 2136),\n",
       " 'force': (30, 2655),\n",
       " 'straight': (356, 2325),\n",
       " 'nearly': (315, 2355),\n",
       " 'highly': (1779, 889),\n",
       " 'beginning': (248, 2417),\n",
       " 'touch': (740, 1919),\n",
       " 'ocean': (1760, 891),\n",
       " 'drive': (562, 2086),\n",
       " 'land': (104, 2534),\n",
       " 'built': (209, 2422),\n",
       " 'changed': (585, 2020),\n",
       " 'continued': (85, 2519),\n",
       " 'plus': (1240, 1363),\n",
       " 'age': (271, 2330),\n",
       " 'sitting': (602, 1999),\n",
       " 'poor': (922, 1672),\n",
       " 'paper': (300, 2294),\n",
       " 'extremely': (2052, 537),\n",
       " 'nobody': (167, 2421),\n",
       " 'pleasant': (1623, 963),\n",
       " 'soft': (522, 2059),\n",
       " 'radio': (93, 2488),\n",
       " 'entire': (846, 1734),\n",
       " 'walls': (605, 1967),\n",
       " 'blood': (38, 2534),\n",
       " 'company': (371, 2198),\n",
       " 'anyway': (68, 2497),\n",
       " 'fresh': (1531, 1027),\n",
       " 'saying': (482, 2076),\n",
       " 'carefully': (66, 2489),\n",
       " 'happen': (241, 2312),\n",
       " 'silence': (23, 2526),\n",
       " 'local': (1239, 1310),\n",
       " 'bus': (2222, 319),\n",
       " 'middle': (735, 1802),\n",
       " 'break': (671, 1864),\n",
       " 'john': (63, 2472),\n",
       " 'rock': (188, 2345),\n",
       " 'unless': (706, 1821),\n",
       " 'offer': (942, 1567),\n",
       " 'energy': (82, 2425),\n",
       " 'weeks': (629, 1873),\n",
       " 'charge': (1133, 1365),\n",
       " 'seems': (1, 2493),\n",
       " 'sit': (766, 1726),\n",
       " 'filled': (340, 2138),\n",
       " 'position': (200, 2271),\n",
       " 'plan': (580, 1889),\n",
       " 'reach': (220, 2248),\n",
       " 'sometimes': (13, 2451),\n",
       " 'thin': (21, 2443),\n",
       " 'sam': (25, 2437),\n",
       " 'expensive': (1967, 494),\n",
       " 'breath': (100, 2352),\n",
       " 'legs': (87, 2363),\n",
       " 'atmosphere': (699, 1751),\n",
       " 'gray': (17, 2422),\n",
       " 'pointed': (114, 2320),\n",
       " 'added': (342, 2087),\n",
       " 'flight': (1077, 1352),\n",
       " 'doubt': (239, 2188),\n",
       " 'double': (1305, 1113),\n",
       " 'busy': (1159, 1257),\n",
       " 'rose': (81, 2330),\n",
       " 'play': (387, 2024),\n",
       " 'son': (612, 1794),\n",
       " 'somewhere': (6, 2396),\n",
       " 'suit': (165, 2236),\n",
       " 'slightly': (481, 1917),\n",
       " 'reception': (2064, 334),\n",
       " 'pick': (663, 1733),\n",
       " 'shut': (178, 2216),\n",
       " 'party': (781, 1610),\n",
       " 'shot': (72, 2318),\n",
       " 'okay': (718, 1671),\n",
       " 'guests': (2053, 333),\n",
       " 'third': (18, 2366),\n",
       " 'shoulder': (21, 2360),\n",
       " 'lights': (328, 2053),\n",
       " 'box': (218, 2159),\n",
       " 'killed': (17, 2356),\n",
       " 'mother': (195, 2175),\n",
       " 'glanced': (4, 2365),\n",
       " 'laughed': (53, 2314),\n",
       " 'spot': (630, 1732),\n",
       " 'although': (79, 2282),\n",
       " 'slow': (574, 1785),\n",
       " 'broke': (113, 2245),\n",
       " 'trees': (344, 2005),\n",
       " 'answered': (110, 2239),\n",
       " 'necessary': (174, 2174),\n",
       " 'immediately': (575, 1769),\n",
       " 'finished': (208, 2134),\n",
       " 'child': (219, 2119),\n",
       " 'alive': (47, 2287),\n",
       " 'leaving': (632, 1701),\n",
       " 'sign': (444, 1885),\n",
       " 'shall': (39, 2284),\n",
       " 'picture': (249, 2070),\n",
       " 'contact': (290, 2026),\n",
       " 'ships': (36, 2278),\n",
       " 'listen': (137, 2176),\n",
       " 'cost': (1143, 1170),\n",
       " 'lips': (6, 2306),\n",
       " 'easily': (628, 1682),\n",
       " 'ok': (2261, 47),\n",
       " 'knowledge': (101, 2205),\n",
       " 'learned': (174, 2127),\n",
       " 'died': (25, 2275),\n",
       " 'learn': (255, 2043),\n",
       " 'wind': (168, 2129),\n",
       " 'strong': (325, 1972),\n",
       " 'type': (603, 1693),\n",
       " 'absolutely': (1466, 827),\n",
       " 'phone': (854, 1439),\n",
       " 'using': (557, 1729),\n",
       " 'quality': (1610, 673),\n",
       " 'suite': (2031, 243),\n",
       " 'normal': (306, 1964),\n",
       " 'dear': (26, 2244),\n",
       " 'including': (1140, 1128),\n",
       " 'island': (1108, 1155),\n",
       " 'ate': (1478, 779),\n",
       " 'comes': (370, 1876),\n",
       " 'st': (1226, 1019),\n",
       " 'situation': (306, 1936),\n",
       " 'wonder': (162, 2078),\n",
       " 'noticed': (469, 1769),\n",
       " 'questions': (462, 1774),\n",
       " 'skin': (59, 2177),\n",
       " 'carried': (79, 2152),\n",
       " 'offered': (1145, 1083),\n",
       " 'looks': (515, 1713),\n",
       " 'impossible': (233, 1994),\n",
       " 'standard': (1396, 830),\n",
       " 'seven': (170, 2055),\n",
       " 'san': (1690, 533),\n",
       " 'chief': (12, 2209),\n",
       " 'report': (132, 2085),\n",
       " 'supposed': (334, 1878),\n",
       " 'pushed': (163, 2049),\n",
       " 'liked': (1043, 1166),\n",
       " 'direction': (219, 1986),\n",
       " 'broken': (417, 1777),\n",
       " 'heat': (336, 1855),\n",
       " 'sick': (805, 1383),\n",
       " 'self': (229, 1951),\n",
       " 'empty': (13, 2165),\n",
       " 'knows': (135, 2038),\n",
       " 'action': (232, 1939),\n",
       " 'creature': (13, 2154),\n",
       " 'month': (340, 1826),\n",
       " 'damn': (27, 2138),\n",
       " 'crew': (127, 2038),\n",
       " 'remembered': (128, 2035),\n",
       " 'speed': (233, 1930),\n",
       " 'somehow': (3, 2159),\n",
       " 'thirty': (25, 2136),\n",
       " 'flat': (586, 1571),\n",
       " 'history': (144, 2012),\n",
       " 'step': (232, 1921),\n",
       " 'eight': (4, 2147),\n",
       " 'sand': (762, 1388),\n",
       " 'enjoy': (1358, 788),\n",
       " 'board': (323, 1821),\n",
       " 'afternoon': (788, 1355),\n",
       " 'country': (723, 1420),\n",
       " 'fifty': (19, 2120),\n",
       " 'forget': (451, 1688),\n",
       " 'meet': (427, 1711),\n",
       " 'music': (882, 1250),\n",
       " 'government': (42, 2073),\n",
       " 'wondered': (51, 2063),\n",
       " 'hardly': (265, 1848),\n",
       " 'shopping': (1966, 141),\n",
       " 'glad': (457, 1646),\n",
       " 'goes': (556, 1546),\n",
       " 'obviously': (352, 1745),\n",
       " 'language': (485, 1610),\n",
       " 'somebody': (68, 2025),\n",
       " 'raised': (34, 2059),\n",
       " 'included': (1615, 473),\n",
       " 'class': (594, 1493),\n",
       " 'apparently': (311, 1768),\n",
       " 'public': (679, 1396),\n",
       " 'dozen': (65, 2005),\n",
       " 'twice': (876, 1194),\n",
       " 'pain': (124, 1944),\n",
       " 'pm': (1910, 157),\n",
       " 'park': (1428, 635),\n",
       " 'fight': (73, 1988),\n",
       " 'hall': (324, 1735),\n",
       " 'mass': (44, 2006),\n",
       " 'tall': (95, 1952),\n",
       " 'usually': (782, 1262),\n",
       " 'american': (829, 1212),\n",
       " 'base': (330, 1709),\n",
       " 'worlds': (24, 2014),\n",
       " 'animal': (39, 1999),\n",
       " 'river': (433, 1605),\n",
       " 'aware': (335, 1701),\n",
       " 'lunch': (1476, 560),\n",
       " 'universe': (2, 2031),\n",
       " 'led': (80, 1947),\n",
       " 'surprised': (686, 1341),\n",
       " 'round': (377, 1650),\n",
       " 'closer': (314, 1710),\n",
       " 'machines': (268, 1750),\n",
       " 'grew': (30, 1985),\n",
       " 'game': (288, 1722),\n",
       " 'fall': (158, 1852),\n",
       " 'dream': (143, 1866),\n",
       " 'note': (794, 1214),\n",
       " 'north': (394, 1614),\n",
       " 'joe': (17, 1981),\n",
       " 'towels': (1951, 45),\n",
       " 'directly': (696, 1293),\n",
       " 'explained': (163, 1825),\n",
       " 'george': (72, 1916),\n",
       " 'covered': (281, 1707),\n",
       " 'cover': (139, 1845),\n",
       " 'rocket': (10, 1973),\n",
       " 'access': (1662, 319),\n",
       " 'police': (166, 1814),\n",
       " 'lived': (201, 1778),\n",
       " 'seeing': (489, 1488),\n",
       " 'ca': (1877, 98),\n",
       " 'everyone': (55, 1915),\n",
       " 'entered': (156, 1812),\n",
       " 'tomorrow': (56, 1912),\n",
       " 'thank': (544, 1422),\n",
       " 'merely': (37, 1922),\n",
       " 'stone': (133, 1824),\n",
       " 'staring': (20, 1935),\n",
       " 'average': (1235, 719),\n",
       " 'seconds': (113, 1841),\n",
       " 'master': (64, 1884),\n",
       " 'per': (19, 1925),\n",
       " 'pass': (369, 1573),\n",
       " 'block': (1121, 819),\n",
       " 'pressure': (422, 1518),\n",
       " 'law': (130, 1804),\n",
       " 'personal': (401, 1526),\n",
       " 'touched': (45, 1878),\n",
       " 'snapped': (6, 1917),\n",
       " 'spacious': (1854, 67),\n",
       " 'tired': (541, 1379),\n",
       " 'private': (663, 1257),\n",
       " 'difficult': (507, 1410),\n",
       " 'often': (9, 1907),\n",
       " 'usual': (372, 1539),\n",
       " 'silent': (25, 1885),\n",
       " 'save': (362, 1547),\n",
       " 'train': (1363, 544),\n",
       " 'agreed': (183, 1721),\n",
       " 'non': (900, 999),\n",
       " 'cana': (1741, 153),\n",
       " 'tree': (92, 1802),\n",
       " 'ice': (626, 1266),\n",
       " 'crowd': (215, 1676),\n",
       " 'worse': (358, 1531),\n",
       " 'computer': (17, 1868),\n",
       " 'hurt': (60, 1821),\n",
       " 'wine': (1286, 593),\n",
       " 'bill': (15, 1863),\n",
       " 'difference': (354, 1524),\n",
       " 'cool': (973, 901),\n",
       " 'la': (1515, 358),\n",
       " 'everybody': (126, 1744),\n",
       " 'guard': (79, 1787),\n",
       " 'president': (11, 1855),\n",
       " 'bottle': (755, 1106),\n",
       " 'worry': (285, 1574),\n",
       " 'lines': (338, 1520),\n",
       " 'secret': (72, 1784),\n",
       " 'follow': (123, 1730),\n",
       " 'truth': (60, 1792),\n",
       " 'parking': (1682, 169),\n",
       " 'darkness': (19, 1831),\n",
       " 'windows': (949, 901),\n",
       " 'equipment': (210, 1640),\n",
       " 'professor': (2, 1846),\n",
       " 'sounds': (185, 1662),\n",
       " 'discovered': (221, 1624),\n",
       " 'buy': (723, 1122),\n",
       " 'shrugged': (20, 1823),\n",
       " 'tour': (1473, 369),\n",
       " 'thoughts': (47, 1794),\n",
       " 'tom': (17, 1823),\n",
       " 'explain': (138, 1701),\n",
       " 'key': (760, 1074),\n",
       " 'sudden': (18, 1815),\n",
       " 'ride': (1256, 574),\n",
       " 'interesting': (466, 1362),\n",
       " 'king': (1079, 747),\n",
       " 'shape': (150, 1675),\n",
       " 'steps': (384, 1441),\n",
       " 'doors': (667, 1156),\n",
       " 'holding': (49, 1770),\n",
       " 'takes': (527, 1288),\n",
       " 'magazine': (24, 1789),\n",
       " 'spend': (1010, 798),\n",
       " 'weapon': (3, 1804),\n",
       " 'thanks': (498, 1306),\n",
       " 'drew': (11, 1792),\n",
       " 'interest': (5, 1794),\n",
       " 'thick': (3, 1792),\n",
       " 'paused': (1, 1794),\n",
       " 'card': (940, 852),\n",
       " 'neither': (5, 1785),\n",
       " 'natural': (167, 1617),\n",
       " 'shouted': (5, 1776),\n",
       " 'ed': (13, 1767),\n",
       " 'neck': (32, 1746),\n",
       " 'write': (349, 1426),\n",
       " 'effect': (65, 1709),\n",
       " 'bars': (1362, 412),\n",
       " 'ordered': (476, 1297),\n",
       " 'interested': (232, 1536),\n",
       " 'catch': (310, 1458),\n",
       " 'range': (335, 1432),\n",
       " 'leaned': (12, 1755),\n",
       " 'art': (370, 1393),\n",
       " 'knowing': (155, 1606),\n",
       " 'mrs': (22, 1738),\n",
       " 'surprise': (486, 1272),\n",
       " 'basic': (680, 1078),\n",
       " 'memory': (63, 1694),\n",
       " 'teeth': (118, 1639),\n",
       " 'baby': (215, 1542),\n",
       " 'officer': (15, 1740),\n",
       " 'carry': (219, 1535),\n",
       " 'managed': (344, 1405),\n",
       " 'nose': (19, 1723),\n",
       " 'allowed': (425, 1313),\n",
       " 'following': (371, 1365),\n",
       " 'needs': (832, 903),\n",
       " 'dust': (74, 1658),\n",
       " 'material': (28, 1702),\n",
       " 'quietly': (35, 1694),\n",
       " 'chairs': (1216, 510),\n",
       " 'french': (1293, 433),\n",
       " 'color': (91, 1629),\n",
       " 'provided': (1048, 671),\n",
       " 'nature': (95, 1621),\n",
       " 'nearby': (1013, 702),\n",
       " 'tip': (1196, 519),\n",
       " 'property': (1279, 436),\n",
       " 'lounge': (1398, 315),\n",
       " 'south': (359, 1354),\n",
       " 'clothes': (358, 1354),\n",
       " 'brown': (98, 1613),\n",
       " 'areas': (1135, 575),\n",
       " 'manager': (1145, 565),\n",
       " 'security': (489, 1217),\n",
       " 'piece': (191, 1514),\n",
       " 'shoulders': (24, 1677),\n",
       " 'throat': (14, 1687),\n",
       " 'gets': (436, 1264),\n",
       " 'imagine': (357, 1343),\n",
       " 'spread': (195, 1503),\n",
       " 'giving': (295, 1401),\n",
       " 'possibly': (187, 1506),\n",
       " 'writing': (164, 1528),\n",
       " 'whispered': (4, 1687),\n",
       " 'fruit': (1174, 515),\n",
       " 'demanded': (35, 1648),\n",
       " 'yellow': (105, 1571),\n",
       " 'original': (204, 1465),\n",
       " 'lifted': (10, 1658),\n",
       " 'struck': (21, 1644),\n",
       " 'school': (200, 1460),\n",
       " 'aside': (148, 1509),\n",
       " 'section': (345, 1311),\n",
       " 'ah': (19, 1636),\n",
       " 'final': (167, 1487),\n",
       " 'animals': (78, 1575),\n",
       " 'cried': (17, 1636),\n",
       " 'fish': (594, 1058),\n",
       " 'mine': (6, 1645),\n",
       " 'mark': (159, 1490),\n",
       " 'sharp': (37, 1612),\n",
       " 'swung': (6, 1642),\n",
       " 'editor': (1, 1645),\n",
       " 'turning': (69, 1576),\n",
       " 'speaking': (469, 1175),\n",
       " 'received': (700, 943),\n",
       " 'welcome': (748, 892),\n",
       " 'smell': (712, 926),\n",
       " 'telling': (154, 1482),\n",
       " 'corridor': (112, 1523),\n",
       " 'smoke': (357, 1271),\n",
       " 'orders': (60, 1563),\n",
       " 'effort': (227, 1394),\n",
       " 'perfectly': (448, 1173),\n",
       " 'lower': (349, 1272),\n",
       " 'purpose': (97, 1514),\n",
       " 'anybody': (92, 1517),\n",
       " 'served': (1009, 600),\n",
       " 'iron': (247, 1361),\n",
       " 'written': (187, 1419),\n",
       " 'somewhat': (414, 1190),\n",
       " 'realize': (172, 1431),\n",
       " 'arrival': (1181, 422),\n",
       " 'larger': (525, 1077),\n",
       " 'forced': (95, 1503),\n",
       " 'boat': (531, 1066),\n",
       " 'beat': (452, 1143),\n",
       " 'higher': (411, 1183),\n",
       " 'weight': (94, 1497),\n",
       " 'lock': (194, 1392),\n",
       " 'remained': (46, 1538),\n",
       " 'landing': (40, 1543),\n",
       " ...}"
      ]
     },
     "execution_count": 166,
     "metadata": {},
     "output_type": "execute_result"
    }
   ],
   "source": [
    "{k: v for k, v in sorted(dict_freqs_corpora.items(), key=lambda item: item[1][0]+item[1][1], reverse=True)}"
   ]
  },
  {
   "cell_type": "code",
   "execution_count": 146,
   "metadata": {},
   "outputs": [
    {
     "data": {
      "text/plain": [
       "[((['rate', 'great', 'seattle', 'try'], 'hotels'), 6.365264415740967),\n",
       " ((['prior', 'check', 'able', 'check'], 'time'), 6.387026786804199),\n",
       " ((['probably', 'deserve', 'opinion', 'make'], 'disappointed'),\n",
       "  6.6557416915893555),\n",
       " ((['ocean', 'hot', 'hamburger', 'french'], 'dog'), 6.716948986053467),\n",
       " ((['basis', 'told', 'available', 'surprising'], 'staff'), 6.761991024017334)]"
      ]
     },
     "execution_count": 146,
     "metadata": {},
     "output_type": "execute_result"
    }
   ],
   "source": [
    "get_closest_word(\"venezuela\", model, word_to_ix)"
   ]
  },
  {
   "cell_type": "code",
   "execution_count": 167,
   "metadata": {},
   "outputs": [],
   "source": [
    "epochs10model = torch.load(\"Tripadvisor_CBOW2_10epochs.zip\")"
   ]
  },
  {
   "cell_type": "code",
   "execution_count": 170,
   "metadata": {},
   "outputs": [
    {
     "name": "stdout",
     "output_type": "stream",
     "text": [
      "[('pierepaolo', 9547, tensor(-2.4730, grad_fn=<SelectBackward>))]\n",
      "[('bavaros', 210, tensor(-2.9888, grad_fn=<SelectBackward>))]\n",
      "[('houskeeping', 47320, tensor(-3.4370, grad_fn=<SelectBackward>))]\n",
      "[('waddle', 34425, tensor(-3.4619, grad_fn=<SelectBackward>))]\n",
      "[('sacks', 2494, tensor(-3.5554, grad_fn=<SelectBackward>))]\n"
     ]
    }
   ],
   "source": [
    "epochs10model.predict([\"mountain\"])"
   ]
  },
  {
   "cell_type": "code",
   "execution_count": 184,
   "metadata": {},
   "outputs": [],
   "source": [
    "nouns = [\"hotel\", \"mountain\", \"hole\"]\n",
    "verbs = [\"smells\", \"looks\", \"seems\"]\n",
    "adjec = [\"stunning\", \"good\", \"wonderful\"]"
   ]
  },
  {
   "cell_type": "code",
   "execution_count": 185,
   "metadata": {},
   "outputs": [
    {
     "name": "stdout",
     "output_type": "stream",
     "text": [
      "Predictions for:  smells\n",
      "[((['french', 'italian', 'arabic', 'amenities'], 'spanish'),\n",
      "  6.6355366706848145),\n",
      " ((['crap', 'really', 'consider', 'upgrading'], 'problem'), 6.679401874542236),\n",
      " ((['location', 'throngs', 'union', 'square'], 'tourists'), 6.817845344543457),\n",
      " ((['los', 'angeles', 'beverly', 'hills'], 'hollywood'), 6.854158878326416),\n",
      " ((['recommendation', 'tapas', 'el', 'coventeno'], 'restaurant'),\n",
      "  6.941442012786865)]\n",
      "\n",
      "*****\n",
      "\n",
      "Predictions for:  looks\n",
      "[((['friends', 'loved', 'street', 'easy'], 'course'), 6.865954875946045),\n",
      " ((['food', 'americanized', 'small', 'dining'], 'good'), 7.102346897125244),\n",
      " ((['wine', 'sit', 'bottles', 'delivered'], 'restaurants'), 7.169107437133789),\n",
      " ((['royal', 'simple', 'month', 'old'], 'travelers'), 7.217203140258789),\n",
      " ((['smileing', 'take', 'pasos', 'year'], 'usd'), 7.300042152404785)]\n",
      "\n",
      "*****\n",
      "\n",
      "Predictions for:  seems\n",
      "[((['laugh', 'reviewer', 'barged', 'underwear'], 'actually'),\n",
      "  6.610374450683594),\n",
      " ((['good', 'german', 'breakfast', 'hotel'], 'buffet'), 6.670795440673828),\n",
      " ((['truly', 'bothers', 'incredibly', 'isolated'], 'live'), 6.671334266662598),\n",
      " ((['df', 'extremely', 'hotel', 'service'], 'nice'), 6.821286201477051),\n",
      " ((['mon', 'wed', 'issue', 'lack'], 'another'), 6.821765899658203)]\n",
      "\n",
      "*****\n",
      "\n"
     ]
    }
   ],
   "source": [
    "from pprint import pprint\n",
    "for word in verbs:\n",
    "    print(\"Predictions for: \", word)\n",
    "    pprint(get_closest_word(word, epochs10model, word_to_ix))\n",
    "    print(\"\\n*****\\n\")"
   ]
  },
  {
   "cell_type": "code",
   "execution_count": 186,
   "metadata": {},
   "outputs": [
    {
     "name": "stdout",
     "output_type": "stream",
     "text": [
      "Predictions for:  hotel\n",
      "[((['fuss', 'adjoining', 'port', 'city'], 'suites'), 6.204483509063721),\n",
      " ((['stay', 'east', 'glad', 'stayed'], 'coast'), 6.410196304321289),\n",
      " ((['nice', 'place', 'legian', 'half'], 'come'), 6.4664506912231445),\n",
      " ((['resort', 'punta', 'thought', 'beautiful'], 'cana'), 6.476151466369629),\n",
      " ((['tropical', 'island', 'people', 'extremly'], 'dominican'),\n",
      "  6.515903472900391)]\n",
      "\n",
      "*****\n",
      "\n",
      "Predictions for:  mountain\n",
      "[((['want', 'walk', 'room', 'small'], 'near'), 6.963839530944824),\n",
      " ((['orleans', 'city', 'effort', 'come'], 'really'), 6.981133937835693),\n",
      " ((['lafayettes', 'close', 'connect', 'parts'], 'subway'), 7.001077175140381),\n",
      " ((['dreadful', 'sit', 'surrounded', 'cigar'], 'theatre'), 7.181070327758789),\n",
      " ((['quite', 'expensive', 'home', 'worth'], 'watched'), 7.186627388000488)]\n",
      "\n",
      "*****\n",
      "\n",
      "Predictions for:  hole\n",
      "[((['villa', 'emilia', 'value', 'money'], 'excellent'), 7.121233940124512),\n",
      " ((['stayed', 'hotel', 'absolutelyloved', 'location'], 'aubusson'),\n",
      "  7.125217437744141),\n",
      " ((['tianenmen', 'square', 'night', 'markets,'], 'various'), 7.245574951171875),\n",
      " ((['going', 'entertainment', 'notch', 'hotel'], 'restaurants'),\n",
      "  7.301563739776611),\n",
      " ((['juan', 'wanted', 'town,', 'depends'], 'closer'), 7.389276504516602)]\n",
      "\n",
      "*****\n",
      "\n"
     ]
    }
   ],
   "source": [
    "for word in nouns:\n",
    "    print(\"Predictions for: \", word)\n",
    "    pprint(get_closest_word(word, epochs10model, word_to_ix))\n",
    "    print(\"\\n*****\\n\")"
   ]
  },
  {
   "cell_type": "code",
   "execution_count": 187,
   "metadata": {},
   "outputs": [
    {
     "name": "stdout",
     "output_type": "stream",
     "text": [
      "Predictions for:  stunning\n",
      "[((['little', 'restaurant', 'like', 'bulldog'], 'stoppo'), 6.113083839416504),\n",
      " ((['worth', 'loved', 'sure', 'enjoy,'], 'place'), 6.220621109008789),\n",
      " ((['double', 'calls', 'hotel', 'american'], 'boutiques'), 6.746540069580078),\n",
      " ((['old', 'san', 'hotel', 'nice'], 'juan'), 6.757916450500488),\n",
      " ((['windows', 'reviewers', 'invitation', 'manager'], 'described'),\n",
      "  6.803639888763428)]\n",
      "\n",
      "*****\n",
      "\n",
      "Predictions for:  good\n",
      "[((['fun', 'room', 'corner', 'room'], 'great'), 6.645134449005127),\n",
      " ((['room', 'service,', 'hotel', 'location'], 'great'), 6.836323261260986),\n",
      " ((['moving', 'room', 'work', 'came'], 'palace'), 6.916350364685059),\n",
      " ((['view', 'th', 'paid', 'night'], 'floor'), 7.016190052032471),\n",
      " ((['traveller', 'tip', 'room', 'allocated'], 'ask'), 7.076954364776611)]\n",
      "\n",
      "*****\n",
      "\n",
      "Predictions for:  wonderful\n",
      "[((['room', 'bugis', 'great', 'food'], 'junction'), 6.299067497253418),\n",
      " ((['canal', 'view', 'room', 'broom'], 'joke'), 6.370555877685547),\n",
      " ((['room', 'spacious', 'overlooking', 'greenery'], 'windows'),\n",
      "  6.404891014099121),\n",
      " ((['financial', 'district', 'fairly', 'quiet'], 'weekends'),\n",
      "  6.431238174438477),\n",
      " ((['days', 'august', 'simple', 'mess'], 'check'), 6.4473066329956055)]\n",
      "\n",
      "*****\n",
      "\n"
     ]
    }
   ],
   "source": [
    "for word in adjec:\n",
    "    print(\"Predictions for: \", word)\n",
    "    pprint(get_closest_word(word, epochs10model, word_to_ix))\n",
    "    print(\"\\n*****\\n\")"
   ]
  },
  {
   "cell_type": "code",
   "execution_count": 188,
   "metadata": {},
   "outputs": [
    {
     "name": "stdout",
     "output_type": "stream",
     "text": [
      "[((['turning', 'lights', 'room', 'turns'], 'entered'), 5.82729959487915),\n",
      " ((['francisco', 'chancellor,', 'union', 'square'], 'gem'), 6.2516865730285645),\n",
      " ((['mold', 'grime', 'average', 'rooms'], 'smaller'), 6.461461067199707),\n",
      " ((['tried', 'tell', 'disputed', 'giving'], 'tax'), 6.488982677459717),\n",
      " ((['near', 'hotel', 'tmb', 'website'], 'check'), 6.495495319366455)]\n"
     ]
    }
   ],
   "source": [
    "pprint(get_closest_word(\"said\", epochs10model, word_to_ix))"
   ]
  },
  {
   "cell_type": "code",
   "execution_count": 189,
   "metadata": {},
   "outputs": [
    {
     "name": "stdout",
     "output_type": "stream",
     "text": [
      "[((['sending', 'port', 'away', 'minutes'], 'right'), 6.345544815063477),\n",
      " ((['husband', 'got', 'yogurt', 'staff'], 'molded'), 6.572568416595459),\n",
      " ((['mail', 'nice', 'bookings', 'museum'], 'book'), 6.705002784729004),\n",
      " ((['huge', 'junior', 'superb', 'washroom'], 'suite'), 6.74298095703125),\n",
      " ((['slow', 'minimal', 'mins', 'attend'], 'wait'), 6.931310653686523)]\n"
     ]
    }
   ],
   "source": [
    "pprint(get_closest_word(\"one\", epochs10model, word_to_ix))"
   ]
  },
  {
   "cell_type": "code",
   "execution_count": null,
   "metadata": {},
   "outputs": [],
   "source": []
  }
 ],
 "metadata": {
  "colab": {
   "collapsed_sections": [],
   "name": "ex02_wordembeddings.ipynb",
   "provenance": []
  },
  "kernelspec": {
   "display_name": "Python 3",
   "language": "python",
   "name": "python3"
  },
  "language_info": {
   "codemirror_mode": {
    "name": "ipython",
    "version": 3
   },
   "file_extension": ".py",
   "mimetype": "text/x-python",
   "name": "python",
   "nbconvert_exporter": "python",
   "pygments_lexer": "ipython3",
   "version": "3.7.5"
  }
 },
 "nbformat": 4,
 "nbformat_minor": 1
}
